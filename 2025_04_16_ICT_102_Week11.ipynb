{
  "nbformat": 4,
  "nbformat_minor": 0,
  "metadata": {
    "colab": {
      "provenance": [],
      "authorship_tag": "ABX9TyMZk4SzDz71mYbmbBS066iU",
      "include_colab_link": true
    },
    "kernelspec": {
      "name": "python3",
      "display_name": "Python 3"
    },
    "language_info": {
      "name": "python"
    }
  },
  "cells": [
    {
      "cell_type": "markdown",
      "metadata": {
        "id": "view-in-github",
        "colab_type": "text"
      },
      "source": [
        "<a href=\"https://colab.research.google.com/github/hasanmdmahmudul/PythonPractice/blob/main/2025_04_16_ICT_102_Week11.ipynb\" target=\"_parent\"><img src=\"https://colab.research.google.com/assets/colab-badge.svg\" alt=\"Open In Colab\"/></a>"
      ]
    },
    {
      "cell_type": "code",
      "execution_count": 1,
      "metadata": {
        "colab": {
          "base_uri": "https://localhost:8080/"
        },
        "id": "py-6lNaGEuRt",
        "outputId": "e8a6ac55-27d1-4205-b5f7-9c3e51b118cd"
      },
      "outputs": [
        {
          "output_type": "stream",
          "name": "stdout",
          "text": [
            "Mounted at /content/drive\n"
          ]
        }
      ],
      "source": [
        "\n",
        "# Step 1: Mount Google Drive\n",
        "from google.colab import drive\n",
        "drive.mount('/content/drive')\n"
      ]
    },
    {
      "cell_type": "code",
      "source": [
        "# Step 2: Set Path to \"SydneyMet\" Folder\n",
        "\n",
        "import os\n",
        "\n",
        "folder_path = '/content/drive/My Drive/SydneyMet'\n",
        "file_path = os.path.join(folder_path, 'example.txt')\n",
        "\n"
      ],
      "metadata": {
        "id": "lRQie7FeN9BV"
      },
      "execution_count": 2,
      "outputs": []
    },
    {
      "cell_type": "code",
      "source": [],
      "metadata": {
        "id": "TEUoCsYT6m-w"
      },
      "execution_count": null,
      "outputs": []
    },
    {
      "cell_type": "code",
      "source": [
        "#📝 File Operations\n",
        "#Write to a File (Overwrites if it exists)\n",
        "with open(file_path, 'w') as file:\n",
        "    file.write('Goodbye, World!\\n')\n"
      ],
      "metadata": {
        "id": "6_fdFAaDOGNx"
      },
      "execution_count": 3,
      "outputs": []
    },
    {
      "cell_type": "code",
      "source": [
        "#Read the Entire File\n",
        "with open(file_path, 'r') as file:\n",
        "    content = file.read()\n",
        "    print(content)\n"
      ],
      "metadata": {
        "colab": {
          "base_uri": "https://localhost:8080/"
        },
        "id": "ai-sTY7EOUV6",
        "outputId": "dd6bbf41-5f2d-400e-9182-3988dac5b23c"
      },
      "execution_count": null,
      "outputs": [
        {
          "output_type": "stream",
          "name": "stdout",
          "text": [
            "Goodbye, World!\n",
            "\n"
          ]
        }
      ]
    },
    {
      "cell_type": "code",
      "source": [
        "#Read File Line by Line\n",
        "with open(file_path, 'r') as file:\n",
        "    for line in file:\n",
        "        print(line, end='')\n"
      ],
      "metadata": {
        "colab": {
          "base_uri": "https://localhost:8080/"
        },
        "id": "tdQGPnMXOcuF",
        "outputId": "00ed35d3-d316-4897-8895-55fffeb44ce7"
      },
      "execution_count": null,
      "outputs": [
        {
          "output_type": "stream",
          "name": "stdout",
          "text": [
            "Goodbye, World!\n"
          ]
        }
      ]
    },
    {
      "cell_type": "code",
      "source": [
        "#Write Multiple Lines\n",
        "lines = ['Hello, World!', 'Goodbye, World!']\n",
        "\n",
        "with open(file_path, 'w') as file:\n",
        "    for line in lines:\n",
        "        file.write(line + '\\n')\n"
      ],
      "metadata": {
        "id": "sfT9_3BBOjNx"
      },
      "execution_count": null,
      "outputs": []
    },
    {
      "cell_type": "code",
      "source": [
        "#Read File and Convert to List (Stripping newline characters)\n",
        "with open(file_path, 'r') as file:\n",
        "    line_list = [line.strip() for line in file]\n",
        "print(line_list)\n"
      ],
      "metadata": {
        "colab": {
          "base_uri": "https://localhost:8080/"
        },
        "id": "zp9H8dAAOnlZ",
        "outputId": "1c9b4213-b2df-4f00-f0df-e96f3e4bd31d"
      },
      "execution_count": null,
      "outputs": [
        {
          "output_type": "stream",
          "name": "stdout",
          "text": [
            "['Hello, World!', 'Goodbye, World!']\n"
          ]
        }
      ]
    },
    {
      "cell_type": "code",
      "source": [
        "#Check if File Exists\n",
        "if os.path.isfile(file_path):\n",
        "    print('File exists')\n",
        "else:\n",
        "    print('File does not exist')\n"
      ],
      "metadata": {
        "colab": {
          "base_uri": "https://localhost:8080/"
        },
        "id": "kSoqcDC2Os_x",
        "outputId": "7430a292-8857-4aaa-f5a5-3f40019f2ae3"
      },
      "execution_count": null,
      "outputs": [
        {
          "output_type": "stream",
          "name": "stdout",
          "text": [
            "File exists\n"
          ]
        }
      ]
    },
    {
      "cell_type": "code",
      "source": [
        "#Rename a File\n",
        "new_file_path = os.path.join(folder_path, 'new_example.txt')\n",
        "\n",
        "if os.path.isfile(file_path):\n",
        "    os.rename(file_path, new_file_path)\n",
        "    print('File renamed')\n",
        "else:\n",
        "    print('File does not exist')"
      ],
      "metadata": {
        "colab": {
          "base_uri": "https://localhost:8080/"
        },
        "id": "guUizn4cPC4-",
        "outputId": "7d2320e6-539d-45a2-eb29-73c7e070ceb9"
      },
      "execution_count": null,
      "outputs": [
        {
          "output_type": "stream",
          "name": "stdout",
          "text": [
            "File renamed\n"
          ]
        }
      ]
    },
    {
      "cell_type": "code",
      "source": [
        "file_path2 = os.path.join(folder_path, 'new_example.txt')"
      ],
      "metadata": {
        "id": "RTpmqq1zPO72"
      },
      "execution_count": null,
      "outputs": []
    },
    {
      "cell_type": "code",
      "source": [
        "#Delete a File\n",
        "if os.path.isfile(file_path2):\n",
        "    os.remove(file_path2)\n",
        "    print('File deleted')\n",
        "else:\n",
        "    print('File does not exist')\n"
      ],
      "metadata": {
        "colab": {
          "base_uri": "https://localhost:8080/"
        },
        "id": "YfhD1ESSOwgB",
        "outputId": "e4830395-8d53-471b-abe9-8d9471094f5c"
      },
      "execution_count": null,
      "outputs": [
        {
          "output_type": "stream",
          "name": "stdout",
          "text": [
            "File deleted\n"
          ]
        }
      ]
    },
    {
      "cell_type": "code",
      "source": [
        "#Exercie\n",
        "# Step 1: Mount Google Drive\n",
        "# from google.colab import drive\n",
        "# drive.mount('/content/drive')\n"
      ],
      "metadata": {
        "id": "82n11QuJO48J"
      },
      "execution_count": null,
      "outputs": []
    },
    {
      "cell_type": "code",
      "source": [
        "# Step 2: Define file path in SydneyMet folder\n",
        "import os\n",
        "\n",
        "folder_path = '/content/drive/My Drive/SydneyMet'\n",
        "file_path = os.path.join(folder_path, 'student_grades.txt')\n"
      ],
      "metadata": {
        "id": "VXuQcS8zQuiM"
      },
      "execution_count": null,
      "outputs": []
    },
    {
      "cell_type": "code",
      "source": [
        "# Step 3: Student scores dictionary\n",
        "students_scores = {\n",
        "    \"Alice\": 88,\n",
        "    \"Bob\": 75,\n",
        "    \"Clara\": 92,\n",
        "    \"David\": 56,\n",
        "    \"Eva\": 68\n",
        "}\n"
      ],
      "metadata": {
        "id": "goYX1MijQwFx"
      },
      "execution_count": null,
      "outputs": []
    },
    {
      "cell_type": "code",
      "source": [
        "# Step 4: Define the grading function\n",
        "def determine_grade(score):\n",
        "    if 90 <= score <= 100:\n",
        "        return 'A'\n",
        "    elif 80 <= score <= 89:\n",
        "        return 'B'\n",
        "    elif 70 <= score <= 79:\n",
        "        return 'C'\n",
        "    elif 60 <= score <= 69:\n",
        "        return 'D'\n",
        "    else:\n",
        "        return 'F'\n"
      ],
      "metadata": {
        "id": "x4HjPnAMQxtJ"
      },
      "execution_count": null,
      "outputs": []
    },
    {
      "cell_type": "code",
      "source": [
        "# Step 5: Write name and grade to file\n",
        "with open(file_path, 'w') as file:\n",
        "    for name, score in students_scores.items():\n",
        "        grade = determine_grade(score)\n",
        "        file.write(f'{name}: {grade}\\n')\n",
        "\n",
        "print(f'Grades written successfully to: {file_path}')\n"
      ],
      "metadata": {
        "colab": {
          "base_uri": "https://localhost:8080/"
        },
        "id": "s2A6RDf_QzPR",
        "outputId": "16c241ef-c98c-4ee4-9dc1-27b922a8da06"
      },
      "execution_count": null,
      "outputs": [
        {
          "output_type": "stream",
          "name": "stdout",
          "text": [
            "Grades written successfully to: /content/drive/My Drive/SydneyMet/student_grades.txt\n"
          ]
        }
      ]
    },
    {
      "cell_type": "code",
      "source": [
        "#practce questions"
      ],
      "metadata": {
        "id": "C5hVTEIAQ0zx"
      },
      "execution_count": null,
      "outputs": []
    },
    {
      "cell_type": "markdown",
      "source": [
        "ython in colab:\n",
        "Write a function that uses a loop or nested loops to identify the location of a number in:\n",
        "a) a list\n",
        "b) a matrix\n",
        "c) a dictionar"
      ],
      "metadata": {
        "id": "EdL7wdY0R8pG"
      }
    },
    {
      "cell_type": "code",
      "source": [
        "def find_number_locations(target, data):\n",
        "    \"\"\"\n",
        "    Identifies the location of a number in:\n",
        "    a) a list\n",
        "    b) a matrix\n",
        "    c) a dictionary\n",
        "\n",
        "    Parameters:\n",
        "    - target: the number to find\n",
        "    - data: list, matrix (2D list), or dictionary\n",
        "\n",
        "    Returns:\n",
        "    - Location(s) of the target\n",
        "    \"\"\"\n",
        "\n",
        "    if isinstance(data, list):\n",
        "        # Check if it's a matrix (list of lists)\n",
        "        if all(isinstance(row, list) for row in data):\n",
        "            # Case b: Matrix\n",
        "            locations = []\n",
        "            for i, row in enumerate(data):\n",
        "                for j, val in enumerate(row):\n",
        "                    if val == target:\n",
        "                        locations.append((i, j))\n",
        "            return f\"Matrix locations: {locations}\" if locations else \"Target not found in matrix.\"\n",
        "        else:\n",
        "            # Case a: List\n",
        "            locations = [i for i, val in enumerate(data) if val == target]\n",
        "            return f\"List indices: {locations}\" if locations else \"Target not found in list.\"\n",
        "\n",
        "    elif isinstance(data, dict):\n",
        "        # Case c: Dictionary\n",
        "        locations = [k for k, v in data.items() if v == target]\n",
        "        return f\"Dictionary keys: {locations}\" if locations else \"Target not found in dictionary.\"\n",
        "\n",
        "    else:\n",
        "        return \"Unsupported data type.\"\n",
        "\n",
        "# ==== Example Usage ====\n",
        "\n",
        "# List\n",
        "example_list = [10, 20, 30, 20, 40]\n",
        "print(find_number_locations(20, example_list))\n",
        "\n",
        "# Matrix\n",
        "example_matrix = [\n",
        "    [5, 8, 20],\n",
        "    [1, 20, 3],\n",
        "    [7, 6, 20]\n",
        "]\n",
        "print(find_number_locations(20, example_matrix))\n",
        "\n",
        "# Dictionary\n",
        "example_dict = {\n",
        "    'a': 20,\n",
        "    'b': 30,\n",
        "    'c': 20,\n",
        "    'd': 40\n",
        "}\n",
        "print(find_number_locations(20, example_dict))\n"
      ],
      "metadata": {
        "colab": {
          "base_uri": "https://localhost:8080/"
        },
        "id": "YOPRJVYrR_yQ",
        "outputId": "6daf35ae-b9e5-464a-afd2-cf397d4d4c23"
      },
      "execution_count": null,
      "outputs": [
        {
          "output_type": "stream",
          "name": "stdout",
          "text": [
            "List indices: [1, 3]\n",
            "Matrix locations: [(0, 2), (1, 1), (2, 2)]\n",
            "Dictionary keys: ['a', 'c']\n"
          ]
        }
      ]
    },
    {
      "cell_type": "code",
      "source": [],
      "metadata": {
        "id": "cnB-n5jASEjy"
      },
      "execution_count": null,
      "outputs": []
    },
    {
      "cell_type": "markdown",
      "source": [
        "Create a function/program that identifies the maximum, or minimum, or average number within a given list, or dict, or matrix)of numbers without using built-in functions such as max(), min(), mean()."
      ],
      "metadata": {
        "id": "J1ZdUwV0SKDD"
      }
    },
    {
      "cell_type": "code",
      "source": [
        "def calculate_stat(data, operation):\n",
        "    \"\"\"\n",
        "    Calculate max, min, or average from a list, matrix, or dictionary\n",
        "    without using built-in max(), min(), or mean() functions.\n",
        "\n",
        "    Parameters:\n",
        "    - data: list, matrix (2D list), or dictionary of numbers\n",
        "    - operation: \"max\", \"min\", or \"average\"\n",
        "\n",
        "    Returns:\n",
        "    - Calculated value\n",
        "    \"\"\"\n",
        "\n",
        "    # Flatten the data into a single list\n",
        "    numbers = []\n",
        "\n",
        "    if isinstance(data, dict):\n",
        "        numbers = list(data.values())\n",
        "    elif isinstance(data, list):\n",
        "        if all(isinstance(row, list) for row in data):  # Matrix\n",
        "            for row in data:\n",
        "                for val in row:\n",
        "                    numbers.append(val)\n",
        "        else:  # Regular list\n",
        "            numbers = data[:]\n",
        "    else:\n",
        "        return \"Unsupported data type\"\n",
        "\n",
        "    # Edge case\n",
        "    if not numbers:\n",
        "        return \"No numbers to process.\"\n",
        "\n",
        "    # Initialise values\n",
        "    result = numbers[0]\n",
        "    total = 0\n",
        "    count = 0\n",
        "\n",
        "    for num in numbers:\n",
        "        if operation == \"max\":\n",
        "            if num > result:\n",
        "                result = num\n",
        "        elif operation == \"min\":\n",
        "            if num < result:\n",
        "                result = num\n",
        "        elif operation == \"average\":\n",
        "            total += num\n",
        "            count += 1\n",
        "        else:\n",
        "            return \"Unsupported operation\"\n",
        "\n",
        "    if operation == \"average\":\n",
        "        return total / count\n",
        "    else:\n",
        "        return result\n",
        "\n",
        "\n",
        "# ====== Example Usage ======\n",
        "example_list = [3, 7, 2, 9, 4]\n",
        "example_matrix = [[5, 2], [8, 1], [6, 7]]\n",
        "example_dict = {'a': 10, 'b': 4, 'c': 15}\n",
        "\n",
        "print(\"List max:\", calculate_stat(example_list, \"max\"))\n",
        "print(\"Matrix min:\", calculate_stat(example_matrix, \"min\"))\n",
        "print(\"Dict average:\", calculate_stat(example_dict, \"average\"))\n"
      ],
      "metadata": {
        "colab": {
          "base_uri": "https://localhost:8080/"
        },
        "id": "bBlJ2KouSKTY",
        "outputId": "b373b8ff-8e47-4f01-b823-01ca21287e80"
      },
      "execution_count": null,
      "outputs": [
        {
          "output_type": "stream",
          "name": "stdout",
          "text": [
            "List max: 9\n",
            "Matrix min: 1\n",
            "Dict average: 9.666666666666666\n"
          ]
        }
      ]
    },
    {
      "cell_type": "code",
      "source": [],
      "metadata": {
        "id": "AMNBuP7QSMVZ"
      },
      "execution_count": null,
      "outputs": []
    },
    {
      "cell_type": "markdown",
      "source": [
        "Given a dictionary with given names as keys and scores as values of a dictionary:\n",
        "        student_scores = { “A\": 91,\n",
        " \t\t\t\t\t “B\": 82,\n",
        "   \t\t\t\t\t “C\": 77,\n",
        "       \t\t\t\t\t “D\": 99\t}\n",
        "1) Find the student has the max scores\n",
        "2) Find the student has the min scores\n",
        "3) Find the average score of this class"
      ],
      "metadata": {
        "id": "kdWF8pjVSR-D"
      }
    },
    {
      "cell_type": "code",
      "source": [
        "# Given dictionary\n",
        "student_scores = {\n",
        "    \"A\": 91,\n",
        "    \"B\": 82,\n",
        "    \"C\": 77,\n",
        "    \"D\": 99\n",
        "}\n",
        "\n",
        "def analyse_scores(scores):\n",
        "    max_score = None\n",
        "    min_score = None\n",
        "    max_student = \"\"\n",
        "    min_student = \"\"\n",
        "    total = 0\n",
        "    count = 0\n",
        "\n",
        "    for student, score in scores.items():\n",
        "        if max_score is None or score > max_score:\n",
        "            max_score = score\n",
        "            max_student = student\n",
        "        if min_score is None or score < min_score:\n",
        "            min_score = score\n",
        "            min_student = student\n",
        "        total += score\n",
        "        count += 1\n",
        "\n",
        "    average_score = total / count if count > 0 else 0\n",
        "\n",
        "    print(f\"1) Student with max score: {max_student} ({max_score})\")\n",
        "    print(f\"2) Student with min score: {min_student} ({min_score})\")\n",
        "    print(f\"3) Average score of the class: {average_score:.2f}\")\n",
        "\n",
        "# Run the function\n",
        "analyse_scores(student_scores)\n"
      ],
      "metadata": {
        "colab": {
          "base_uri": "https://localhost:8080/"
        },
        "id": "nvjP6o03SSQQ",
        "outputId": "01dab771-2f65-4039-9107-822221eadfff"
      },
      "execution_count": null,
      "outputs": [
        {
          "output_type": "stream",
          "name": "stdout",
          "text": [
            "1) Student with max score: D (99)\n",
            "2) Student with min score: C (77)\n",
            "3) Average score of the class: 87.25\n"
          ]
        }
      ]
    },
    {
      "cell_type": "code",
      "source": [],
      "metadata": {
        "id": "xxtll4uISVMy"
      },
      "execution_count": null,
      "outputs": []
    },
    {
      "cell_type": "markdown",
      "source": [
        "Write a module program with several user-defined functions (e.g., adding, differencing, multiplying 2 numbers).\n",
        "Write a client program import the module and call out the functions in module under the __main__ keyword."
      ],
      "metadata": {
        "id": "CdY-hEM-Sarq"
      }
    },
    {
      "cell_type": "code",
      "source": [
        "# mymathmodule.py\n",
        "\n",
        "def add(a, b):\n",
        "    return a + b\n",
        "\n",
        "def subtract(a, b):\n",
        "    return a - b\n",
        "\n",
        "def multiply(a, b):\n",
        "    return a * b\n",
        "\n",
        "def divide(a, b):\n",
        "    if b != 0:\n",
        "        return a / b\n",
        "    else:\n",
        "        return \"Division by zero is not allowed.\"\n"
      ],
      "metadata": {
        "id": "G-JU-IETSbIp"
      },
      "execution_count": null,
      "outputs": []
    },
    {
      "cell_type": "code",
      "source": [
        "# main_client.py\n",
        "\n",
        "import mymathmodule\n",
        "\n",
        "def main():\n",
        "    a = 10\n",
        "    b = 5\n",
        "\n",
        "    print(\"Addition:\", mymathmodule.add(a, b))\n",
        "    print(\"Subtraction:\", mymathmodule.subtract(a, b))\n",
        "    print(\"Multiplication:\", mymathmodule.multiply(a, b))\n",
        "    print(\"Division:\", mymathmodule.divide(a, b))\n",
        "\n",
        "if __name__ == \"__main__\":\n",
        "    main()\n"
      ],
      "metadata": {
        "colab": {
          "base_uri": "https://localhost:8080/",
          "height": 383
        },
        "id": "ktNEuaTjSc6B",
        "outputId": "cf82c644-af51-426f-d628-89f245142df0"
      },
      "execution_count": null,
      "outputs": [
        {
          "output_type": "error",
          "ename": "ModuleNotFoundError",
          "evalue": "No module named 'mymathmodule'",
          "traceback": [
            "\u001b[0;31m---------------------------------------------------------------------------\u001b[0m",
            "\u001b[0;31mModuleNotFoundError\u001b[0m                       Traceback (most recent call last)",
            "\u001b[0;32m<ipython-input-32-779bac1ee5b5>\u001b[0m in \u001b[0;36m<cell line: 0>\u001b[0;34m()\u001b[0m\n\u001b[1;32m      1\u001b[0m \u001b[0;31m# main_client.py\u001b[0m\u001b[0;34m\u001b[0m\u001b[0;34m\u001b[0m\u001b[0m\n\u001b[1;32m      2\u001b[0m \u001b[0;34m\u001b[0m\u001b[0m\n\u001b[0;32m----> 3\u001b[0;31m \u001b[0;32mimport\u001b[0m \u001b[0mmymathmodule\u001b[0m\u001b[0;34m\u001b[0m\u001b[0;34m\u001b[0m\u001b[0m\n\u001b[0m\u001b[1;32m      4\u001b[0m \u001b[0;34m\u001b[0m\u001b[0m\n\u001b[1;32m      5\u001b[0m \u001b[0;32mdef\u001b[0m \u001b[0mmain\u001b[0m\u001b[0;34m(\u001b[0m\u001b[0;34m)\u001b[0m\u001b[0;34m:\u001b[0m\u001b[0;34m\u001b[0m\u001b[0;34m\u001b[0m\u001b[0m\n",
            "\u001b[0;31mModuleNotFoundError\u001b[0m: No module named 'mymathmodule'",
            "",
            "\u001b[0;31m---------------------------------------------------------------------------\u001b[0;32m\nNOTE: If your import is failing due to a missing package, you can\nmanually install dependencies using either !pip or !apt.\n\nTo view examples of installing some common dependencies, click the\n\"Open Examples\" button below.\n\u001b[0;31m---------------------------------------------------------------------------\u001b[0m\n"
          ],
          "errorDetails": {
            "actions": [
              {
                "action": "open_url",
                "actionText": "Open Examples",
                "url": "/notebooks/snippets/importing_libraries.ipynb"
              }
            ]
          }
        }
      ]
    },
    {
      "cell_type": "code",
      "source": [
        "# This will create a module file named mymathmodule.py in the current Colab directory\n",
        "module_code = '''\n",
        "def add(a, b):\n",
        "    return a + b\n",
        "\n",
        "def subtract(a, b):\n",
        "    return a - b\n",
        "\n",
        "def multiply(a, b):\n",
        "    return a * b\n",
        "\n",
        "def divide(a, b):\n",
        "    if b != 0:\n",
        "        return a / b\n",
        "    else:\n",
        "        return \"Division by zero is not allowed.\"\n",
        "'''\n",
        "\n",
        "# Write the module code to a .py file\n",
        "with open(\"mymathmodule.py\", \"w\") as file:\n",
        "    file.write(module_code)\n"
      ],
      "metadata": {
        "id": "qSZEpncFSeUK"
      },
      "execution_count": null,
      "outputs": []
    },
    {
      "cell_type": "code",
      "source": [
        "# Now import the module\n",
        "import mymathmodule\n",
        "\n",
        "# Client program\n",
        "def main():\n",
        "    a = 12\n",
        "    b = 6\n",
        "\n",
        "    print(\"Addition:\", mymathmodule.add(a, b))\n",
        "    print(\"Subtraction:\", mymathmodule.subtract(a, b))\n",
        "    print(\"Multiplication:\", mymathmodule.multiply(a, b))\n",
        "    print(\"Division:\", mymathmodule.divide(a, b))\n",
        "\n",
        "if __name__ == \"__main__\":\n",
        "    main()\n"
      ],
      "metadata": {
        "colab": {
          "base_uri": "https://localhost:8080/"
        },
        "id": "8CfxVwRPSlyS",
        "outputId": "55045ef2-9efd-48d5-f52a-48c96fef6a8b"
      },
      "execution_count": null,
      "outputs": [
        {
          "output_type": "stream",
          "name": "stdout",
          "text": [
            "Addition: 18\n",
            "Subtraction: 6\n",
            "Multiplication: 72\n",
            "Division: 2.0\n"
          ]
        }
      ]
    },
    {
      "cell_type": "code",
      "source": [],
      "metadata": {
        "id": "vVZiQXgjSnEK"
      },
      "execution_count": null,
      "outputs": []
    },
    {
      "cell_type": "markdown",
      "source": [
        "Write an object-oriented programming with Class in python for calculation with several user-defined methods (e.g., adding, differencing, multiplying 2 numbers)."
      ],
      "metadata": {
        "id": "XXindGccStP8"
      }
    },
    {
      "cell_type": "code",
      "source": [
        "class Calculator:\n",
        "    def __init__(self, num1, num2):\n",
        "        self.a = num1\n",
        "        self.b = num2\n",
        "\n",
        "    def add(self):\n",
        "        return self.a + self.b\n",
        "\n",
        "    def subtract(self):\n",
        "        return self.a - self.b\n",
        "\n",
        "    def multiply(self):\n",
        "        return self.a * self.b\n",
        "\n",
        "    def divide(self):\n",
        "        if self.b != 0:\n",
        "            return self.a / self.b\n",
        "        else:\n",
        "            return \"Division by zero is not allowed.\"\n",
        "\n",
        "# ==== Example usage ====\n",
        "if __name__ == \"__main__\":\n",
        "    # Create an object of Calculator class\n",
        "    calc = Calculator(10, 5)\n",
        "\n",
        "    print(\"Addition:\", calc.add())\n",
        "    print(\"Subtraction:\", calc.subtract())\n",
        "    print(\"Multiplication:\", calc.multiply())\n",
        "    print(\"Division:\", calc.divide())\n"
      ],
      "metadata": {
        "colab": {
          "base_uri": "https://localhost:8080/"
        },
        "id": "8knlxzqAStlJ",
        "outputId": "9a4a87ae-1e49-48f3-f281-71c35e15fec6"
      },
      "execution_count": null,
      "outputs": [
        {
          "output_type": "stream",
          "name": "stdout",
          "text": [
            "Addition: 15\n",
            "Subtraction: 5\n",
            "Multiplication: 50\n",
            "Division: 2.0\n"
          ]
        }
      ]
    },
    {
      "cell_type": "code",
      "source": [
        "# # Step 2: Define the new folder path\n",
        "# new_folder_path = '/content/drive/MyDrive/SydneyMet1'\n",
        "\n",
        "# # Step 3: Create the folder if it doesn't exist\n",
        "# if not os.path.exists(new_folder_path):\n",
        "#     os.makedirs(new_folder_path)\n",
        "#     print(f\"Folder created: {new_folder_path}\")\n",
        "# else:\n",
        "#     print(f\"Folder already exists: {new_folder_path}\")\n",
        "\n",
        "# # Step 4: Set a file path inside the new folder\n",
        "# file_path = os.path.join(new_folder_path, 'example.txt')\n",
        "# print(f\"File will be saved to: {file_path}\")"
      ],
      "metadata": {
        "id": "knhMaSr5SvCh"
      },
      "execution_count": null,
      "outputs": []
    }
  ]
}