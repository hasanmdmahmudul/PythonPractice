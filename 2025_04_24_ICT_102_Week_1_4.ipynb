{
  "nbformat": 4,
  "nbformat_minor": 0,
  "metadata": {
    "colab": {
      "provenance": [],
      "authorship_tag": "ABX9TyNNxwDndof4QAPZbcghMWHf",
      "include_colab_link": true
    },
    "kernelspec": {
      "name": "python3",
      "display_name": "Python 3"
    },
    "language_info": {
      "name": "python"
    }
  },
  "cells": [
    {
      "cell_type": "markdown",
      "metadata": {
        "id": "view-in-github",
        "colab_type": "text"
      },
      "source": [
        "<a href=\"https://colab.research.google.com/github/hasanmdmahmudul/PythonPractice/blob/main/2025_04_24_ICT_102_Week_1_4.ipynb\" target=\"_parent\"><img src=\"https://colab.research.google.com/assets/colab-badge.svg\" alt=\"Open In Colab\"/></a>"
      ]
    },
    {
      "cell_type": "code",
      "source": [
        "#Week-1"
      ],
      "metadata": {
        "id": "Ls-faz0wZbUp"
      },
      "execution_count": null,
      "outputs": []
    },
    {
      "cell_type": "code",
      "execution_count": null,
      "metadata": {
        "id": "8Ryjc9sEBh5d",
        "outputId": "bb2265ab-9446-4c2f-8485-8031cc3470ee",
        "colab": {
          "base_uri": "https://localhost:8080/"
        }
      },
      "outputs": [
        {
          "output_type": "stream",
          "name": "stdout",
          "text": [
            "Hello World 7\n",
            "Hello World Hello World Hello World Hello World Hello World \n",
            "0\n",
            "el\n",
            "True\n"
          ]
        }
      ],
      "source": [
        "x = \"Hello World \"\n",
        "n = 5\n",
        "y=7\n",
        "print(x + str(y))\n",
        "print(x * n)\n",
        "print(n//y)\n",
        "print(x[1:3])\n",
        "print(\"o\" in x)"
      ]
    },
    {
      "cell_type": "code",
      "source": [
        " #This is a Python program that adds two numbers  together\n",
        " # Define two variables, a and b, and assign them values\n",
        " a = 5\n",
        " b = 7\n",
        " # Add the two variables together and store the result in a new variable, c\n",
        " c = a + b\n",
        " # Print the value of c to the console\n",
        " print(c)"
      ],
      "metadata": {
        "id": "kj-xTVz6Bi1h",
        "colab": {
          "base_uri": "https://localhost:8080/"
        },
        "outputId": "326c7779-3896-4ad7-cde0-046120450fee"
      },
      "execution_count": 2,
      "outputs": [
        {
          "output_type": "stream",
          "name": "stdout",
          "text": [
            "12\n"
          ]
        }
      ]
    },
    {
      "cell_type": "code",
      "source": [
        "# Hello World program\n",
        "print(\"Hello, world!\")"
      ],
      "metadata": {
        "colab": {
          "base_uri": "https://localhost:8080/"
        },
        "id": "paIDGqeCYr4s",
        "outputId": "024b7895-1d1e-4fe0-cbfd-1b0cc370a907"
      },
      "execution_count": 3,
      "outputs": [
        {
          "output_type": "stream",
          "name": "stdout",
          "text": [
            "Hello, world!\n"
          ]
        }
      ]
    },
    {
      "cell_type": "code",
      "source": [
        "print(\"My name is \" + \" Nabin\" + \" and I am \" +\"25\"+\" years old.\")"
      ],
      "metadata": {
        "colab": {
          "base_uri": "https://localhost:8080/"
        },
        "id": "reElKgqnYzcp",
        "outputId": "e678d533-750d-4403-906c-66b690d93dd2"
      },
      "execution_count": 4,
      "outputs": [
        {
          "output_type": "stream",
          "name": "stdout",
          "text": [
            "My name is  Nabin and I am 25 years old.\n"
          ]
        }
      ]
    },
    {
      "cell_type": "code",
      "source": [
        "name = \"John\"\n",
        "age = 25\n",
        "print(f\"My name is {name} and I am {age} years old.\")\n"
      ],
      "metadata": {
        "colab": {
          "base_uri": "https://localhost:8080/"
        },
        "id": "AdYiy-uvY5uh",
        "outputId": "7c1db9c9-fae0-42f3-bce3-ce05717e5183"
      },
      "execution_count": 6,
      "outputs": [
        {
          "output_type": "stream",
          "name": "stdout",
          "text": [
            "My name is John and I am 25 years old.\n"
          ]
        }
      ]
    },
    {
      "cell_type": "code",
      "source": [
        "# Syntax error in string\n",
        "\n",
        "name = \"Alice\"\n",
        "age = 25\n",
        "print(\"My name is\" name \"and I am\"  age \"years old.\")\n",
        "\n"
      ],
      "metadata": {
        "colab": {
          "base_uri": "https://localhost:8080/",
          "height": 106
        },
        "id": "Y4ACQgFjY80A",
        "outputId": "19dffb49-61cc-4b02-aa52-4dd66f2b9ec0"
      },
      "execution_count": 10,
      "outputs": [
        {
          "output_type": "error",
          "ename": "SyntaxError",
          "evalue": "invalid syntax. Perhaps you forgot a comma? (<ipython-input-10-e08f2d7b7d10>, line 5)",
          "traceback": [
            "\u001b[0;36m  File \u001b[0;32m\"<ipython-input-10-e08f2d7b7d10>\"\u001b[0;36m, line \u001b[0;32m5\u001b[0m\n\u001b[0;31m    print(\"My name is\" name \"and I am\"  age \"years old.\")\u001b[0m\n\u001b[0m          ^\u001b[0m\n\u001b[0;31mSyntaxError\u001b[0m\u001b[0;31m:\u001b[0m invalid syntax. Perhaps you forgot a comma?\n"
          ]
        }
      ]
    },
    {
      "cell_type": "code",
      "source": [
        " # Syntax error in string\n",
        "print(Hello, World!)\n"
      ],
      "metadata": {
        "colab": {
          "base_uri": "https://localhost:8080/",
          "height": 106
        },
        "id": "Q2oemDYtZFvg",
        "outputId": "8db96d7e-b505-4134-9ea7-5c7cd0a333af"
      },
      "execution_count": 8,
      "outputs": [
        {
          "output_type": "error",
          "ename": "SyntaxError",
          "evalue": "invalid syntax (<ipython-input-8-dcc794b5b849>, line 2)",
          "traceback": [
            "\u001b[0;36m  File \u001b[0;32m\"<ipython-input-8-dcc794b5b849>\"\u001b[0;36m, line \u001b[0;32m2\u001b[0m\n\u001b[0;31m    print(Hello, World!)\u001b[0m\n\u001b[0m                      ^\u001b[0m\n\u001b[0;31mSyntaxError\u001b[0m\u001b[0;31m:\u001b[0m invalid syntax\n"
          ]
        }
      ]
    },
    {
      "cell_type": "code",
      "source": [
        "#Taking Input in Python vvi\n",
        "# Read the user's name\n",
        "name = input(\"What is your name? \")\n",
        " # Read the user's age\n",
        "age = input(\"What is your age? \")\n",
        " # Print a message using the user's name and age\n",
        "print(\"Hello, \" + name + \"! You are \" + age + \" years old.\")"
      ],
      "metadata": {
        "colab": {
          "base_uri": "https://localhost:8080/"
        },
        "id": "02dnv8BtZKTX",
        "outputId": "83c4592c-8db7-4ed4-d450-f4ee92260427"
      },
      "execution_count": 12,
      "outputs": [
        {
          "output_type": "stream",
          "name": "stdout",
          "text": [
            "What is your name? Hasan\n",
            "What is your age? 29\n",
            "Hello, Hasan! You are 29 years old.\n"
          ]
        }
      ]
    },
    {
      "cell_type": "code",
      "source": [
        "#Week-2\n",
        "#Calculate the area of a circle\n",
        "import math\n",
        "def calculate_circle_area(radius):\n",
        " return math.pi * radius ** 2\n",
        "\n",
        "\n",
        "radius = float(input(\"Enter the radius of the circle: \"))\n",
        "area = calculate_circle_area(radius)\n",
        "print(f\"The area of the circle is: {area}\")\n",
        "\n"
      ],
      "metadata": {
        "colab": {
          "base_uri": "https://localhost:8080/"
        },
        "id": "NMR8DmDSZUPi",
        "outputId": "76b47ca4-05db-43aa-abce-22bc23fc5d06"
      },
      "execution_count": 15,
      "outputs": [
        {
          "output_type": "stream",
          "name": "stdout",
          "text": [
            "Enter the radius of the circle: 4\n",
            "The area of the circle is: 50.26548245743669\n"
          ]
        }
      ]
    },
    {
      "cell_type": "code",
      "source": [
        "# Variable declaration\n",
        "name = \"Alice\"  # 'name' is a string variable\n",
        "age = 25        # 'age' is an integer variable\n",
        "\n",
        "# Function definition\n",
        "def greet():  # 'greet' is a function\n",
        "    print(\"Hello, \" + name)  # 'print' is a function, '+' is a concatenation operator\n",
        "\n",
        "# Function call\n",
        "greet()  # Calls the greet function\n",
        "\n",
        "# Conditional check using keyword 'if'\n",
        "if age > 18:  # 'if' is a keyword, '>' is a comparison operator\n",
        "    print(name + \" is an adult.\")\n"
      ],
      "metadata": {
        "colab": {
          "base_uri": "https://localhost:8080/"
        },
        "id": "Ll_cYFaFZmAO",
        "outputId": "eb42b20c-5768-4610-9032-ff41a4f1d18a"
      },
      "execution_count": 18,
      "outputs": [
        {
          "output_type": "stream",
          "name": "stdout",
          "text": [
            "Hello, Alice\n",
            "Alice is an adult.\n"
          ]
        }
      ]
    },
    {
      "cell_type": "code",
      "source": [
        "#Test Variable and Operator Knowledge\n",
        "print(6 + 4 / 2 - (1 * 2))"
      ],
      "metadata": {
        "colab": {
          "base_uri": "https://localhost:8080/"
        },
        "id": "UJRgACwbaJlg",
        "outputId": "e602054b-e40b-413d-d285-5996df9c8343"
      },
      "execution_count": 28,
      "outputs": [
        {
          "output_type": "stream",
          "name": "stdout",
          "text": [
            "6.0\n"
          ]
        }
      ]
    },
    {
      "cell_type": "code",
      "source": [
        "Name=“Elon Musk”\n",
        "Age=“32”\n",
        "Print(Name+Age"
      ],
      "metadata": {
        "colab": {
          "base_uri": "https://localhost:8080/",
          "height": 106
        },
        "id": "zFm1Vk1sadj4",
        "outputId": "9ec972f7-f88d-42b3-9b19-f45c1f48e5c4"
      },
      "execution_count": 21,
      "outputs": [
        {
          "output_type": "error",
          "ename": "SyntaxError",
          "evalue": "invalid character '“' (U+201C) (<ipython-input-21-2823b7c79eac>, line 1)",
          "traceback": [
            "\u001b[0;36m  File \u001b[0;32m\"<ipython-input-21-2823b7c79eac>\"\u001b[0;36m, line \u001b[0;32m1\u001b[0m\n\u001b[0;31m    Name=“Elon Musk”\u001b[0m\n\u001b[0m         ^\u001b[0m\n\u001b[0;31mSyntaxError\u001b[0m\u001b[0;31m:\u001b[0m invalid character '“' (U+201C)\n"
          ]
        }
      ]
    },
    {
      "cell_type": "code",
      "source": [
        "Name=\"Elon Musk\"\n",
        "Age=\"32\"\n",
        "print(Name+Age)"
      ],
      "metadata": {
        "colab": {
          "base_uri": "https://localhost:8080/"
        },
        "id": "BGJkKNbkagZI",
        "outputId": "fb3c2192-bec7-4c97-966c-3de73e2d347a"
      },
      "execution_count": 26,
      "outputs": [
        {
          "output_type": "stream",
          "name": "stdout",
          "text": [
            "Elon Musk32\n"
          ]
        }
      ]
    },
    {
      "cell_type": "code",
      "source": [
        "# Integer\n",
        "x = 5\n",
        "y = 3\n",
        "print(x + y)  # Output: 8\n",
        "print(x - y)  # Output: 2\n",
        "print(x * y)  # Output: 15\n",
        "print(x / y)  # Output: 1.6666666666666667\n",
        "print(x % y)  # Output: 2\n",
        "print(x // y) # Output: 1\n",
        "print(x ** y) # Output: 125"
      ],
      "metadata": {
        "colab": {
          "base_uri": "https://localhost:8080/"
        },
        "id": "PFyaEzNVa89J",
        "outputId": "bd4ed4c9-43be-43ee-c9e1-5296d3286406"
      },
      "execution_count": 30,
      "outputs": [
        {
          "output_type": "stream",
          "name": "stdout",
          "text": [
            "8\n",
            "2\n",
            "15\n",
            "1.6666666666666667\n",
            "2\n",
            "1\n",
            "125\n"
          ]
        }
      ]
    },
    {
      "cell_type": "code",
      "source": [
        "# Float\n",
        "x = 3.14\n",
        "y = 2.0\n",
        "print(x + y)  # Output: 5.14\n",
        "print(x - y)  # Output: 1.14\n",
        "print(x * y)  # Output: 6.28\n",
        "print(x / y)  # Output: 1.57\n",
        "print(x % y)  # Output: 1.14\n",
        "print(x // y) # Output: 1.0\n",
        "print(x ** y) # Output: 9.8596"
      ],
      "metadata": {
        "colab": {
          "base_uri": "https://localhost:8080/"
        },
        "id": "f5B5P3hIbS03",
        "outputId": "07eb9898-c1c2-4d75-85d8-73a78175a4f4"
      },
      "execution_count": 31,
      "outputs": [
        {
          "output_type": "stream",
          "name": "stdout",
          "text": [
            "5.140000000000001\n",
            "1.1400000000000001\n",
            "6.28\n",
            "1.57\n",
            "1.1400000000000001\n",
            "1.0\n",
            "9.8596\n"
          ]
        }
      ]
    },
    {
      "cell_type": "code",
      "source": [
        "#The use of f-string to make printing easy\n",
        "# Define variables\n",
        "name = \"Alice\"\n",
        "age = 25\n",
        "# Create an f-string\n",
        "greeting = f\"Hello, my name is {name} and I am {age} years old.\"\n",
        "# Print the f-string\n",
        "print(greeting)"
      ],
      "metadata": {
        "colab": {
          "base_uri": "https://localhost:8080/"
        },
        "id": "GsQl5laqbXoO",
        "outputId": "2bcad171-4b54-4f0b-fbd7-a8b9df3c882c"
      },
      "execution_count": 32,
      "outputs": [
        {
          "output_type": "stream",
          "name": "stdout",
          "text": [
            "Hello, my name is Alice and I am 25 years old.\n"
          ]
        }
      ]
    },
    {
      "cell_type": "code",
      "source": [
        "# Program to add the digits in a 2-digit number\n",
        "\n",
        "# Get input from the user\n",
        "num = input(\"Enter a 2-digit number: \")\n",
        "\n",
        "# Ensure the input is a 2-digit number\n",
        "if len(num) == 2 and num.isdigit():\n",
        "    digit1 = int(num[0])\n",
        "    digit2 = int(num[1])\n",
        "    total = digit1 + digit2\n",
        "    print(f\"{digit1} + {digit2} = {total}\")\n",
        "else:\n",
        "    print(\"Please enter a valid 2-digit number.\")\n"
      ],
      "metadata": {
        "colab": {
          "base_uri": "https://localhost:8080/"
        },
        "id": "od-jg-EibdEX",
        "outputId": "dfe26252-1744-4ffa-dd3d-f29cd7e9fab6"
      },
      "execution_count": 33,
      "outputs": [
        {
          "output_type": "stream",
          "name": "stdout",
          "text": [
            "Enter a 2-digit number: 23\n",
            "2 + 3 = 5\n"
          ]
        }
      ]
    },
    {
      "cell_type": "code",
      "source": [
        "#Exercise-2 BMI Calculator\n",
        "# Program to calculate Body Mass Index (BMI)\n",
        "\n",
        "# Get user input for weight and height\n",
        "weight = float(input(\"Enter your weight in kilograms (kg): \"))\n",
        "height = float(input(\"Enter your height in metres (m): \"))\n",
        "\n",
        "# Calculate BMI\n",
        "bmi = weight / (height ** 2)\n",
        "\n",
        "# Display the result, rounded to 2 decimal places\n",
        "print(f\"Your BMI is {bmi:.2f}\")\n"
      ],
      "metadata": {
        "colab": {
          "base_uri": "https://localhost:8080/"
        },
        "id": "rjrLkKAGbix2",
        "outputId": "130813d0-5144-424e-f3af-11956d98b0d6"
      },
      "execution_count": 34,
      "outputs": [
        {
          "output_type": "stream",
          "name": "stdout",
          "text": [
            "Enter your weight in kilograms (kg): 62\n",
            "Enter your height in metres (m): 1.6\n",
            "Your BMI is 24.22\n"
          ]
        }
      ]
    },
    {
      "cell_type": "code",
      "source": [
        "#Week-3\n",
        "import random\n",
        "coin=random.randrange(0,2)\n",
        "print(\"The coin flipping result is:\")\n",
        "if coin==0:\n",
        "  print(\"Head\")\n",
        "else:\n",
        "  print(\"Tail\")"
      ],
      "metadata": {
        "colab": {
          "base_uri": "https://localhost:8080/"
        },
        "id": "JFQTMvvIbiNP",
        "outputId": "d7df1c2a-4b27-417b-c0c3-b600cfc17344"
      },
      "execution_count": 36,
      "outputs": [
        {
          "output_type": "stream",
          "name": "stdout",
          "text": [
            "The coin flipping result is:\n",
            "Tail\n"
          ]
        }
      ]
    },
    {
      "cell_type": "code",
      "source": [
        "score = float(input(\"Enter your IELTS score: \"))\n",
        "if score >= 6.5:\n",
        "  print(\"You are Eligible for Admission\")\n",
        "else:\n",
        "  print(\"You are Not Eligible for Admission\")\n"
      ],
      "metadata": {
        "colab": {
          "base_uri": "https://localhost:8080/"
        },
        "id": "UWu1rHK5cmqn",
        "outputId": "f131c97f-2a0b-4cc5-d742-aaf0b7238191"
      },
      "execution_count": 38,
      "outputs": [
        {
          "output_type": "stream",
          "name": "stdout",
          "text": [
            "Enter your IELTS score: 6.5\n",
            "You are Eligible for Admission\n"
          ]
        }
      ]
    },
    {
      "cell_type": "code",
      "source": [
        "age = 21\n",
        "if age < 18:\n",
        "  print(\"You are not an adult.\")\n",
        "elif age >= 18 and age < 21:\n",
        "  print(\"You are an adult, but not yet able to  drink.\")\n",
        "else:\n",
        "  print(\"You are an adult and can legally drink.\")"
      ],
      "metadata": {
        "colab": {
          "base_uri": "https://localhost:8080/"
        },
        "id": "pYKhWwIJcszI",
        "outputId": "c85bbf3f-8400-4b6c-d2da-bcebfde99700"
      },
      "execution_count": 40,
      "outputs": [
        {
          "output_type": "stream",
          "name": "stdout",
          "text": [
            "You are an adult and can legally drink.\n"
          ]
        }
      ]
    },
    {
      "cell_type": "code",
      "source": [
        "age = 21\n",
        "if age >= 18:\n",
        "  print(\"You are an adult.\")\n",
        "if age >= 21:\n",
        "  print(\"You are legally allowed to drink.\")"
      ],
      "metadata": {
        "colab": {
          "base_uri": "https://localhost:8080/"
        },
        "id": "Kl17oSUuc3NP",
        "outputId": "e25b74e8-4f6b-4549-f075-ea0625adb4a1"
      },
      "execution_count": 41,
      "outputs": [
        {
          "output_type": "stream",
          "name": "stdout",
          "text": [
            "You are an adult.\n",
            "You are legally allowed to drink.\n"
          ]
        }
      ]
    },
    {
      "cell_type": "code",
      "source": [
        "print(\"Welcome to The Haunted House!\")\n",
        "height = int(input(\"What is your height in cm? \"))\n",
        "bill = 0\n",
        "\n",
        "if height >= 130:\n",
        "    print(\"You can enter The Haunted House!\")\n",
        "    age = int(input(\"What is your age? \"))\n",
        "\n",
        "    if age < 14:\n",
        "        bill = 5\n",
        "        print(\"Child tickets are $5.\")\n",
        "    elif age <= 21:\n",
        "        bill = 7\n",
        "        print(\"Youth tickets are $7.\")\n",
        "    else:\n",
        "        bill = 10\n",
        "        print(\"Adult tickets are $10.\")\n",
        "\n",
        "    wants_photo = input(\"Do you want a photo taken? Y or N. \")\n",
        "    if wants_photo.upper() == \"Y\":\n",
        "        bill += 3\n",
        "\n",
        "    print(f\"Your final bill is ${bill}\")\n",
        "else:\n",
        "    print(\"Sorry, you have to be at least 130 cm tall to enter The Haunted House.\")\n"
      ],
      "metadata": {
        "colab": {
          "base_uri": "https://localhost:8080/"
        },
        "id": "NZVihMzyc-k3",
        "outputId": "53e2d22b-1f02-4f70-befe-eef5ad79ba34"
      },
      "execution_count": 43,
      "outputs": [
        {
          "output_type": "stream",
          "name": "stdout",
          "text": [
            "Welcome to The Haunted House!\n",
            "What is your height in cm? 165\n",
            "You can enter The Haunted House!\n",
            "What is your age? 29\n",
            "Adult tickets are $10.\n",
            "Do you want a photo taken? Y or N. Y\n",
            "Your final bill is $13\n"
          ]
        }
      ]
    },
    {
      "cell_type": "code",
      "source": [
        "x = 10\n",
        "y = 5\n",
        "z = 15\n",
        "\n",
        "if x > y and y < z:\n",
        "    print(\"Both conditions are true\")\n",
        "elif x < y and y < z:\n",
        "    print(\"Neither condition is true\")\n",
        "else:\n",
        "    print(\"One condition is true\")\n"
      ],
      "metadata": {
        "colab": {
          "base_uri": "https://localhost:8080/"
        },
        "id": "BRnhtdiodEz-",
        "outputId": "d13d93c3-a387-4738-a9e9-149fe4cde8e9"
      },
      "execution_count": 44,
      "outputs": [
        {
          "output_type": "stream",
          "name": "stdout",
          "text": [
            "Both conditions are true\n"
          ]
        }
      ]
    },
    {
      "cell_type": "code",
      "source": [
        "#Grading uisng if-else vvi\n",
        "percentage = float(input(\"Enter your percentage score: \"))\n",
        "\n",
        "if percentage >= 90:\n",
        "    grade = \"A\"\n",
        "elif percentage >= 80:\n",
        "    grade = \"B\"\n",
        "elif percentage >= 70:\n",
        "    grade = \"C\"\n",
        "elif percentage >= 60:\n",
        "    grade = \"D\"\n",
        "else:\n",
        "    grade = \"F\"\n",
        "\n",
        "print(\"Your grade is:\", grade)\n"
      ],
      "metadata": {
        "colab": {
          "base_uri": "https://localhost:8080/"
        },
        "id": "r8GwHM23dYnW",
        "outputId": "b94f0088-4ec8-475d-d674-da0fc9444080"
      },
      "execution_count": 45,
      "outputs": [
        {
          "output_type": "stream",
          "name": "stdout",
          "text": [
            "Enter your percentage score: 70\n",
            "Your grade is: C\n"
          ]
        }
      ]
    },
    {
      "cell_type": "code",
      "source": [
        "#Working with list\n",
        "# Create a list\n",
        "fruits = [\"apple\", \"banana\", \"cherry\"]\n",
        "# Print the list\n",
        "print(fruits)  # Output: ['apple', 'banana', 'cherry']\n",
        "# Accessing items in a list using indexing\n",
        "print(fruits[0])  # Output: apple\n",
        "print(fruits[1])  # Output: banana\n",
        "print(fruits[-1]) # Output: cherry\n",
        "# Changing an item in a list\n",
        "fruits[1] = \"kiwi\"\n",
        "print(fruits)  # Output: ['apple', 'kiwi', 'cherry’]\n",
        "# Adding an item to the end of a list\n",
        "fruits.append(\"orange\")\n",
        "print(fruits)  # Output: ['apple', 'kiwi', 'cherry', 'orange']\n",
        "\n",
        "# Inserting an item at a specific position\n",
        "fruits.insert(1, \"grape\")\n",
        "print(fruits)  # Output: ['apple', 'grape', 'kiwi', 'cherry', 'orange']\n",
        "# Removing an item from a list\n",
        "fruits.remove(\"kiwi\")\n",
        "print(fruits)  # Output: ['apple', 'grape', 'cherry', 'orange']\n",
        "# Removing the last item from a list\n",
        "fruits.pop()\n",
        "print(fruits)  # Output: ['apple', 'grape', 'cherry']\n",
        "# Finding the length of a list\n",
        "print(len(fruits))  # Output: 3"
      ],
      "metadata": {
        "colab": {
          "base_uri": "https://localhost:8080/"
        },
        "id": "rOLjkwyddkHf",
        "outputId": "0f3a15b8-750d-4491-f3fe-be2e2978d996"
      },
      "execution_count": 47,
      "outputs": [
        {
          "output_type": "stream",
          "name": "stdout",
          "text": [
            "['apple', 'banana', 'cherry']\n",
            "apple\n",
            "banana\n",
            "cherry\n",
            "['apple', 'kiwi', 'cherry']\n",
            "['apple', 'kiwi', 'cherry', 'orange']\n",
            "['apple', 'grape', 'kiwi', 'cherry', 'orange']\n",
            "['apple', 'grape', 'cherry', 'orange']\n",
            "['apple', 'grape', 'cherry']\n",
            "3\n"
          ]
        }
      ]
    },
    {
      "cell_type": "code",
      "source": [
        "fruits = [\"apple\", \"banana\", \"cherry\"]\n",
        "print(fruits)\n",
        "\n",
        "print(fruits[0])\n",
        "print(fruits[1])\n",
        "print(fruits[-1])\n",
        "\n",
        "fruits[1] = \"kiwi\"\n",
        "print(fruits)\n",
        "\n",
        "fruits.append(\"orange\")\n",
        "print(fruits)\n",
        "\n",
        "fruits.insert(1, \"grape\")\n",
        "print(fruits)\n",
        "\n",
        "fruits.remove(\"kiwi\")\n",
        "print(fruits)\n",
        "\n",
        "fruits.pop()\n",
        "print(fruits)\n",
        "\n",
        "print(len(fruits))\n"
      ],
      "metadata": {
        "colab": {
          "base_uri": "https://localhost:8080/"
        },
        "id": "1RC7ZrQed7BP",
        "outputId": "dc845ee2-4316-4e2f-f074-0e099bff91fb"
      },
      "execution_count": 48,
      "outputs": [
        {
          "output_type": "stream",
          "name": "stdout",
          "text": [
            "['apple', 'banana', 'cherry']\n",
            "apple\n",
            "banana\n",
            "cherry\n",
            "['apple', 'kiwi', 'cherry']\n",
            "['apple', 'kiwi', 'cherry', 'orange']\n",
            "['apple', 'grape', 'kiwi', 'cherry', 'orange']\n",
            "['apple', 'grape', 'cherry', 'orange']\n",
            "['apple', 'grape', 'cherry']\n",
            "3\n"
          ]
        }
      ]
    },
    {
      "cell_type": "code",
      "source": [
        "#Loop vvi\n",
        "#Print numbers from 1 to 5\n",
        "# Iterate over a range of  numbers from 1 to 5\n",
        "for i in range(1, 6):\n",
        "  print(i)"
      ],
      "metadata": {
        "colab": {
          "base_uri": "https://localhost:8080/"
        },
        "id": "vBsxViNvdukf",
        "outputId": "e7d3a144-014e-46bf-a047-ae69aa62e5e8"
      },
      "execution_count": 49,
      "outputs": [
        {
          "output_type": "stream",
          "name": "stdout",
          "text": [
            "1\n",
            "2\n",
            "3\n",
            "4\n",
            "5\n"
          ]
        }
      ]
    },
    {
      "cell_type": "code",
      "source": [
        "#Prints odd numbers from 1 to 10\n",
        "# Iterate over a range of  numbers with a step size of 2\n",
        "for i in range(1, 10, 2):\n",
        "  print(i)"
      ],
      "metadata": {
        "colab": {
          "base_uri": "https://localhost:8080/"
        },
        "id": "4chUhKuweCne",
        "outputId": "21dd0c25-f303-4e64-82eb-06c19273342b"
      },
      "execution_count": 50,
      "outputs": [
        {
          "output_type": "stream",
          "name": "stdout",
          "text": [
            "1\n",
            "3\n",
            "5\n",
            "7\n",
            "9\n"
          ]
        }
      ]
    },
    {
      "cell_type": "code",
      "source": [
        "# use a for loop to  iterate over a list of Australian states and print  each state.\n",
        "# Iterate over a list of Australian states\n",
        "states = [\"New South Wales\", \"Queensland\", \"South Australia\", \"Tasmania\", \"Victoria\", \"Western Australia\"]\n",
        "for state in states:\n",
        "  print(state)"
      ],
      "metadata": {
        "colab": {
          "base_uri": "https://localhost:8080/"
        },
        "id": "2rGPG61beFtu",
        "outputId": "0f2686ae-7cb3-40f9-dbe5-3f86fb3b016f"
      },
      "execution_count": 52,
      "outputs": [
        {
          "output_type": "stream",
          "name": "stdout",
          "text": [
            "New South Wales\n",
            "Queensland\n",
            "South Australia\n",
            "Tasmania\n",
            "Victoria\n",
            "Western Australia\n"
          ]
        }
      ]
    },
    {
      "cell_type": "code",
      "source": [
        "#Write a program using for loop to add 1 to n series sum=1+2+3. . . . . . +n"
      ],
      "metadata": {
        "id": "49oU60jBeRCg"
      },
      "execution_count": null,
      "outputs": []
    },
    {
      "cell_type": "code",
      "source": [
        "# Program to add numbers 1 to n using a for loop\n",
        "n = int(input(\"Enter a number: \"))\n",
        "sum = 0\n",
        "for i in range(1, n+1):\n",
        "  sum += i\n",
        "print(\"The sum of numbers 1 to\", n, \"is:\", sum)"
      ],
      "metadata": {
        "colab": {
          "base_uri": "https://localhost:8080/"
        },
        "id": "g6TJa1QCeaOp",
        "outputId": "c2979076-3dcc-409a-c228-93974d763e54"
      },
      "execution_count": 53,
      "outputs": [
        {
          "output_type": "stream",
          "name": "stdout",
          "text": [
            "Enter a number: 5\n",
            "The sum of numbers 1 to 5 is: 15\n"
          ]
        }
      ]
    },
    {
      "cell_type": "code",
      "source": [
        "# Exercise -1\n",
        "#  Write a program using for loop to add the square of  1 to n series\n",
        "#  sum=12+22+32. . . . . . +n2\n",
        "# Exercise - 1\n",
        "# Program to add the square of numbers from 1 to n\n",
        "\n",
        "n = int(input(\"Enter the value of n: \"))\n",
        "total = 0\n",
        "\n",
        "for i in range(1, n + 1):\n",
        "    total += i ** 2\n",
        "\n",
        "print(\"The sum of squares from 1 to\", n, \"is:\", total)\n"
      ],
      "metadata": {
        "colab": {
          "base_uri": "https://localhost:8080/"
        },
        "id": "lcTpzYJ3ecM4",
        "outputId": "4e47ed82-595d-4a5f-cd95-90f8b6f145cf"
      },
      "execution_count": 54,
      "outputs": [
        {
          "output_type": "stream",
          "name": "stdout",
          "text": [
            "Enter the value of n: 5\n",
            "The sum of squares from 1 to 5 is: 55\n"
          ]
        }
      ]
    },
    {
      "cell_type": "code",
      "source": [
        "# Exercise -2\n",
        "#  Write a program using for loop to add the even numbers from 1 to n series\n",
        "#  sum=2+4+6+…….n\n",
        "#  The user should enter an even integer, If the input “n” is odd, warn the user the input\n",
        "# is odd.\n",
        "# Hint: when input%2==0 the number is even"
      ],
      "metadata": {
        "id": "2X3iBX1qem1h"
      },
      "execution_count": null,
      "outputs": []
    },
    {
      "cell_type": "code",
      "source": [
        "# Exercise - 2\n",
        "# Program to add even numbers from 1 to n\n",
        "\n",
        "n = int(input(\"Enter an even integer: \"))\n",
        "\n",
        "# Check if the input is even\n",
        "if n % 2 != 0:\n",
        "    print(\"The input is odd. Please enter an even number.\")\n",
        "else:\n",
        "    total = 0\n",
        "    # Add even numbers from 2 to n\n",
        "    for i in range(2, n + 1, 2):\n",
        "        total += i\n",
        "\n",
        "    print(f\"The sum of even numbers from 2 to {n} is: {total}\")\n"
      ],
      "metadata": {
        "colab": {
          "base_uri": "https://localhost:8080/"
        },
        "id": "FIVZKKX6evHo",
        "outputId": "6b67c147-8954-4f22-837d-334484d27b57"
      },
      "execution_count": 55,
      "outputs": [
        {
          "output_type": "stream",
          "name": "stdout",
          "text": [
            "Enter an even integer: 5\n",
            "The input is odd. Please enter an even number.\n"
          ]
        }
      ]
    },
    {
      "cell_type": "code",
      "source": [
        "# Program to calculate the average student height\n",
        "\n",
        "student_heights = [180, 124, 165, 173, 189, 169, 146]\n",
        "\n",
        "# Initialize variables for the total height and the count of heights\n",
        "total_height = 0\n",
        "height_count = 0\n",
        "\n",
        "# Loop through the list to calculate total height and count the number of students\n",
        "for height in student_heights:\n",
        "    total_height += height\n",
        "    height_count += 1\n",
        "\n",
        "# Calculate the average height\n",
        "average_height = total_height / height_count\n",
        "\n",
        "# Round to the nearest whole number\n",
        "average_height_rounded = round(average_height)\n",
        "\n",
        "print(average_height_rounded)\n"
      ],
      "metadata": {
        "colab": {
          "base_uri": "https://localhost:8080/"
        },
        "id": "xyOD-mnVfD-5",
        "outputId": "a00f9ecc-d6b7-4792-f43f-631822148970"
      },
      "execution_count": 57,
      "outputs": [
        {
          "output_type": "stream",
          "name": "stdout",
          "text": [
            "164\n"
          ]
        }
      ]
    },
    {
      "cell_type": "code",
      "source": [
        "#Interactive practice with teacher\n",
        "# Program to calculate the highest score without using max() function\n",
        "\n",
        "student_scores = [78, 65, 89, 86, 55, 91, 64, 89]\n",
        "\n",
        "# Initialize a variable to store the highest score\n",
        "highest_score = student_scores[0]\n",
        "\n",
        "# Loop through the list to find the highest score\n",
        "for score in student_scores:\n",
        "    if score > highest_score:\n",
        "        highest_score = score\n",
        "\n",
        "print(f\"The highest score in the class is: {highest_score}\")\n"
      ],
      "metadata": {
        "colab": {
          "base_uri": "https://localhost:8080/"
        },
        "id": "9Q2-nUI4evsC",
        "outputId": "d7f8cbbc-495e-4de6-831a-9c2cccc2e961"
      },
      "execution_count": 56,
      "outputs": [
        {
          "output_type": "stream",
          "name": "stdout",
          "text": [
            "The highest score in the class is: 91\n"
          ]
        }
      ]
    },
    {
      "cell_type": "code",
      "source": [
        "#Nested for Loop\n",
        "# Program to print a multiplication table using nested loops\n",
        "n = int(input(\"Enter a number: \"))\n",
        "\n",
        "# Outer loop for rows\n",
        "for i in range(1, n+1):\n",
        "    # Inner loop for columns\n",
        "    for j in range(1, n+1):\n",
        "        # Multiply row by column and print result\n",
        "        print(i * j, end=\"\\t\")\n",
        "    # Move to the next line after each row\n",
        "    print()\n"
      ],
      "metadata": {
        "colab": {
          "base_uri": "https://localhost:8080/"
        },
        "id": "EN7Lg9Tue-do",
        "outputId": "6c072aa6-cd94-4483-d513-e180e33bd97e"
      },
      "execution_count": 58,
      "outputs": [
        {
          "output_type": "stream",
          "name": "stdout",
          "text": [
            "Enter a number: 5\n",
            "1\t2\t3\t4\t5\t\n",
            "2\t4\t6\t8\t10\t\n",
            "3\t6\t9\t12\t15\t\n",
            "4\t8\t12\t16\t20\t\n",
            "5\t10\t15\t20\t25\t\n"
          ]
        }
      ]
    },
    {
      "cell_type": "code",
      "source": [
        "#Week-4"
      ],
      "metadata": {
        "id": "ovCxa5qGfOfx"
      },
      "execution_count": null,
      "outputs": []
    },
    {
      "cell_type": "code",
      "source": [
        "#Array\n",
        "# Array\n",
        "# Importing \"array\" for array creation\n",
        "import array as arr\n",
        "\n",
        "# Creating an array with integer type\n",
        "a = arr.array('i', [1, 2, 3])\n",
        "\n",
        "# Printing the original array\n",
        "print(\"The new created array is:\", end=\" \")\n",
        "for i in range(0, len(a)):\n",
        "    print(a[i], end=\" \")\n",
        "print()\n",
        "\n",
        "# Creating an array with double type\n",
        "b = arr.array('d', [2.5, 3.2, 3.3])\n",
        "\n",
        "# Printing the original array\n",
        "print(\"\\nThe new created array is:\", end=\" \")\n",
        "for i in range(0, len(b)):\n",
        "    print(b[i], end=\" \")\n",
        "print()\n"
      ],
      "metadata": {
        "colab": {
          "base_uri": "https://localhost:8080/"
        },
        "id": "9pXEpsXKfZNy",
        "outputId": "98480903-10d2-48fc-f069-32f8faaca461"
      },
      "execution_count": 59,
      "outputs": [
        {
          "output_type": "stream",
          "name": "stdout",
          "text": [
            "The new created array is: 1 2 3 \n",
            "\n",
            "The new created array is: 2.5 3.2 3.3 \n"
          ]
        }
      ]
    },
    {
      "cell_type": "code",
      "source": [
        " my_list = [10, 20, 30, 40, 50]\n",
        " import array\n",
        " my_array = array.array('i', [10, 20, 30, 40, 50])"
      ],
      "metadata": {
        "id": "X_BxgdjGffaS"
      },
      "execution_count": 61,
      "outputs": []
    },
    {
      "cell_type": "code",
      "source": [
        "#write a program that calculates the highest score from a List of scores (VVI)\n",
        "\n",
        "# List of student scores\n",
        "student_scores = [78, 65, 89, 86, 55, 91, 64, 89]\n",
        "\n",
        "# Initialize a variable to store the highest score\n",
        "highest_score = student_scores[0]\n",
        "\n",
        "# Iterate through the list of scores to find the highest\n",
        "for score in student_scores:\n",
        "    if score > highest_score:\n",
        "        highest_score = score\n",
        "\n",
        "# Print the result\n",
        "print(f\"The highest score in the class is: {highest_score}\")\n"
      ],
      "metadata": {
        "colab": {
          "base_uri": "https://localhost:8080/"
        },
        "id": "6kxTZm4zfkWa",
        "outputId": "2265c9c8-2e83-4e3c-adc1-97bb243bece6"
      },
      "execution_count": 62,
      "outputs": [
        {
          "output_type": "stream",
          "name": "stdout",
          "text": [
            "The highest score in the class is: 91\n"
          ]
        }
      ]
    },
    {
      "cell_type": "code",
      "source": [
        "#Working with list\n",
        "# Create a list\n",
        "fruits = [\"apple\", \"banana\", \"cherry\"]\n",
        "# Print the list\n",
        "print(fruits)  # Output: ['apple', 'banana', 'cherry']\n",
        "# Accessing items in a list using indexing\n",
        "print(fruits[0])  # Output: apple\n",
        "print(fruits[1])  # Output: banana\n",
        "print(fruits[-1]) # Output: cherry\n",
        "# Changing an item in a list\n",
        "fruits[1] = \"kiwi\"\n",
        "print(fruits)  # Output: ['apple', 'kiwi', 'cherry’]\n",
        "# Adding an item to the end of a list\n",
        "fruits.append(\"orange\")\n",
        "print(fruits)  # Output: ['apple', 'kiwi', 'cherry', 'orange']\n",
        "\n",
        "# Inserting an item at a specific position\n",
        "fruits.insert(1, \"grape\")\n",
        "print(fruits)  # Output: ['apple', 'grape', 'kiwi', 'cherry', 'orange']\n",
        "# Removing an item from a list\n",
        "fruits.remove(\"kiwi\")\n",
        "print(fruits)  # Output: ['apple', 'grape', 'cherry', 'orange']\n",
        "# Removing the last item from a list\n",
        "fruits.pop()\n",
        "print(fruits)  # Output: ['apple', 'grape', 'cherry']\n",
        "# Finding the length of a list\n",
        "print(len(fruits))  # Output: 3"
      ],
      "metadata": {
        "colab": {
          "base_uri": "https://localhost:8080/"
        },
        "id": "gZWVF-Bkf0vZ",
        "outputId": "43736ff5-f205-4eb9-a360-b2da27508eae"
      },
      "execution_count": 63,
      "outputs": [
        {
          "output_type": "stream",
          "name": "stdout",
          "text": [
            "['apple', 'banana', 'cherry']\n",
            "apple\n",
            "banana\n",
            "cherry\n",
            "['apple', 'kiwi', 'cherry']\n",
            "['apple', 'kiwi', 'cherry', 'orange']\n",
            "['apple', 'grape', 'kiwi', 'cherry', 'orange']\n",
            "['apple', 'grape', 'cherry', 'orange']\n",
            "['apple', 'grape', 'cherry']\n",
            "3\n"
          ]
        }
      ]
    },
    {
      "cell_type": "code",
      "source": [
        "fruits = [\"apple\", \"banana\", \"cherry\"]\n",
        "print(fruits)\n",
        "print(fruits[0])\n",
        "print(fruits[1])\n",
        "print(fruits[-1])\n",
        "fruits[1] = \"kiwi\"\n",
        "print(fruits)\n",
        "fruits.append(\"orange\")\n",
        "print(fruits)\n",
        "fruits.insert(1, \"grape\")\n",
        "print(fruits)\n",
        "fruits.remove(\"kiwi\")\n",
        "print(fruits)\n",
        "fruits.pop()\n",
        "print(fruits)\n",
        "print(len(fruits))\n"
      ],
      "metadata": {
        "colab": {
          "base_uri": "https://localhost:8080/"
        },
        "id": "Sn7SzXNVf8f4",
        "outputId": "51f04de2-007e-45aa-bb95-bf2f1587c84a"
      },
      "execution_count": 64,
      "outputs": [
        {
          "output_type": "stream",
          "name": "stdout",
          "text": [
            "['apple', 'banana', 'cherry']\n",
            "apple\n",
            "banana\n",
            "cherry\n",
            "['apple', 'kiwi', 'cherry']\n",
            "['apple', 'kiwi', 'cherry', 'orange']\n",
            "['apple', 'grape', 'kiwi', 'cherry', 'orange']\n",
            "['apple', 'grape', 'cherry', 'orange']\n",
            "['apple', 'grape', 'cherry']\n",
            "3\n"
          ]
        }
      ]
    },
    {
      "cell_type": "code",
      "source": [
        "#Array/List Example: Password Generator Project\n",
        "#  A password generator program using lists to generate a strong password. The user will\n",
        "# enter how many characters, numbers and symbols want to use, and then the program\n",
        "# will automatically generate a random password.\n",
        "# NOT IMPORTANT FOR XAM\n",
        "\n",
        "import random\n",
        "\n",
        "print(\"Welcome to the PyPassword Generator!\")\n",
        "nr_letters = int(input(\"How many letters would you like in your password?\\n\"))\n",
        "nr_symbols = int(input(f\"How many symbols would you like?\\n\"))\n",
        "nr_numbers = int(input(f\"How many numbers would you like?\\n\"))\n",
        "\n",
        "letters = ['a', 'b', 'c', 'd', 'e', 'f', 'g', 'h', 'i', 'j', 'k', 'l', 'm', 'n', 'o', 'p', 'q', 'r', 's', 't', 'u', 'v', 'w',\n",
        "           'x', 'y', 'z', 'A', 'B', 'C', 'D', 'E', 'F', 'G', 'H', 'I', 'J', 'K', 'L', 'M', 'N', 'O', 'P', 'Q', 'R', 'S', 'T', 'U',\n",
        "           'V', 'W', 'X', 'Y', 'Z']\n",
        "numbers = ['0', '1', '2', '3', '4', '5', '6', '7', '8', '9']\n",
        "symbols = ['!', '#', '$', '%', '&', '(', ')', '*', '+']\n",
        "\n",
        "password_list = []  # will contain the generated password\n",
        "\n",
        "for char in range(1, nr_letters + 1):\n",
        "    password_list.append(random.choice(letters))\n",
        "for char in range(1, nr_symbols + 1):\n",
        "    password_list += random.choice(symbols)\n",
        "for char in range(1, nr_numbers + 1):\n",
        "    password_list += random.choice(numbers)\n",
        "\n",
        "random.shuffle(password_list)\n",
        "\n",
        "password = \"\"\n",
        "for char in password_list:\n",
        "    password += char\n",
        "\n",
        "print(f\"Your password is: {password}\")\n"
      ],
      "metadata": {
        "colab": {
          "base_uri": "https://localhost:8080/"
        },
        "id": "xbMXt71LgAbp",
        "outputId": "685d2e79-9908-4a1d-ed4d-0b718638316b"
      },
      "execution_count": 65,
      "outputs": [
        {
          "output_type": "stream",
          "name": "stdout",
          "text": [
            "Welcome to the PyPassword Generator!\n",
            "How many letters would you like in your password?\n",
            "4\n",
            "How many symbols would you like?\n",
            "1\n",
            "How many numbers would you like?\n",
            "1\n",
            "Your password is: kzd$j2\n"
          ]
        }
      ]
    },
    {
      "cell_type": "code",
      "source": [
        "#2-dimensional list\n",
        "matrix1 = [[1, 2, 3], [4, 5, 6], [7, 8, 9]]  # Example matrix 1\n",
        "matrix2 = [[9, 8, 7], [6, 5, 4], [3, 2, 1]]  # Example matrix 2\n",
        "\n",
        "result = [[0, 0, 0], [0, 0, 0], [0, 0, 0]]  # Initialize a 3x3 matrix to store the result\n",
        "\n",
        "# Add the matrices element-wise\n",
        "for i in range(len(matrix1)):\n",
        "    for j in range(len(matrix1[i])):\n",
        "        result[i][j] = matrix1[i][j] + matrix2[i][j]\n",
        "\n",
        "# Print the resulting matrix\n",
        "for row in result:\n",
        "    print(row)\n"
      ],
      "metadata": {
        "colab": {
          "base_uri": "https://localhost:8080/"
        },
        "id": "9Hp75kgfgaRR",
        "outputId": "e8366a39-575e-4da5-ead4-8a5783910dcf"
      },
      "execution_count": 66,
      "outputs": [
        {
          "output_type": "stream",
          "name": "stdout",
          "text": [
            "[10, 10, 10]\n",
            "[10, 10, 10]\n",
            "[10, 10, 10]\n"
          ]
        }
      ]
    },
    {
      "cell_type": "markdown",
      "source": [],
      "metadata": {
        "id": "V8WqlHtAgvQZ"
      }
    },
    {
      "cell_type": "code",
      "source": [
        "#VVI\n",
        "word = input(\"Enter a word: \")\n",
        "\n",
        "# Loop through each character in the word\n",
        "for char in word:\n",
        "    print(char)\n"
      ],
      "metadata": {
        "colab": {
          "base_uri": "https://localhost:8080/"
        },
        "id": "4xE_hMy5gs-g",
        "outputId": "ada4af84-e5e5-4148-b996-81ad8333e4cc"
      },
      "execution_count": 68,
      "outputs": [
        {
          "output_type": "stream",
          "name": "stdout",
          "text": [
            "Enter a word: Hasan\n",
            "H\n",
            "a\n",
            "s\n",
            "a\n",
            "n\n"
          ]
        }
      ]
    },
    {
      "cell_type": "code",
      "source": [
        "print(len(word))"
      ],
      "metadata": {
        "colab": {
          "base_uri": "https://localhost:8080/"
        },
        "id": "Dxcl9CDYhZha",
        "outputId": "126a0c07-cf2c-49e2-f28a-69293c3d0196"
      },
      "execution_count": 69,
      "outputs": [
        {
          "output_type": "stream",
          "name": "stdout",
          "text": [
            "5\n"
          ]
        }
      ]
    },
    {
      "cell_type": "code",
      "source": [],
      "metadata": {
        "id": "fYkiv1Tlhe0Z"
      },
      "execution_count": null,
      "outputs": []
    }
  ]
}