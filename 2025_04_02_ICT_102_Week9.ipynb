{
  "nbformat": 4,
  "nbformat_minor": 0,
  "metadata": {
    "colab": {
      "provenance": [],
      "authorship_tag": "ABX9TyMSkUxAc754UmKOkYMB4T9e",
      "include_colab_link": true
    },
    "kernelspec": {
      "name": "python3",
      "display_name": "Python 3"
    },
    "language_info": {
      "name": "python"
    },
    "widgets": {
      "application/vnd.jupyter.widget-state+json": {
        "4803ea8526e148ed8e1972ef6ec9521e": {
          "model_module": "@jupyter-widgets/controls",
          "model_name": "DropdownModel",
          "model_module_version": "1.5.0",
          "state": {
            "_dom_classes": [],
            "_model_module": "@jupyter-widgets/controls",
            "_model_module_version": "1.5.0",
            "_model_name": "DropdownModel",
            "_options_labels": [
              "USD",
              "AUD",
              "NPR",
              "BDT",
              "INR",
              "PKR",
              "EUR",
              "GBP",
              "JPY",
              "CAD"
            ],
            "_view_count": null,
            "_view_module": "@jupyter-widgets/controls",
            "_view_module_version": "1.5.0",
            "_view_name": "DropdownView",
            "description": "Base:",
            "description_tooltip": null,
            "disabled": false,
            "index": 0,
            "layout": "IPY_MODEL_c2f1d64ea0474d17abaa0e9c573a9293",
            "style": "IPY_MODEL_d398ff8eb5a04a23bba0a03e6f96a833"
          }
        },
        "c2f1d64ea0474d17abaa0e9c573a9293": {
          "model_module": "@jupyter-widgets/base",
          "model_name": "LayoutModel",
          "model_module_version": "1.2.0",
          "state": {
            "_model_module": "@jupyter-widgets/base",
            "_model_module_version": "1.2.0",
            "_model_name": "LayoutModel",
            "_view_count": null,
            "_view_module": "@jupyter-widgets/base",
            "_view_module_version": "1.2.0",
            "_view_name": "LayoutView",
            "align_content": null,
            "align_items": null,
            "align_self": null,
            "border": null,
            "bottom": null,
            "display": null,
            "flex": null,
            "flex_flow": null,
            "grid_area": null,
            "grid_auto_columns": null,
            "grid_auto_flow": null,
            "grid_auto_rows": null,
            "grid_column": null,
            "grid_gap": null,
            "grid_row": null,
            "grid_template_areas": null,
            "grid_template_columns": null,
            "grid_template_rows": null,
            "height": null,
            "justify_content": null,
            "justify_items": null,
            "left": null,
            "margin": null,
            "max_height": null,
            "max_width": null,
            "min_height": null,
            "min_width": null,
            "object_fit": null,
            "object_position": null,
            "order": null,
            "overflow": null,
            "overflow_x": null,
            "overflow_y": null,
            "padding": null,
            "right": null,
            "top": null,
            "visibility": null,
            "width": null
          }
        },
        "d398ff8eb5a04a23bba0a03e6f96a833": {
          "model_module": "@jupyter-widgets/controls",
          "model_name": "DescriptionStyleModel",
          "model_module_version": "1.5.0",
          "state": {
            "_model_module": "@jupyter-widgets/controls",
            "_model_module_version": "1.5.0",
            "_model_name": "DescriptionStyleModel",
            "_view_count": null,
            "_view_module": "@jupyter-widgets/base",
            "_view_module_version": "1.2.0",
            "_view_name": "StyleView",
            "description_width": ""
          }
        },
        "8e39fdc74a4d4e8b95102c61ad4f9a36": {
          "model_module": "@jupyter-widgets/controls",
          "model_name": "DropdownModel",
          "model_module_version": "1.5.0",
          "state": {
            "_dom_classes": [],
            "_model_module": "@jupyter-widgets/controls",
            "_model_module_version": "1.5.0",
            "_model_name": "DropdownModel",
            "_options_labels": [
              "USD",
              "AUD",
              "NPR",
              "BDT",
              "INR",
              "PKR",
              "EUR",
              "GBP",
              "JPY",
              "CAD"
            ],
            "_view_count": null,
            "_view_module": "@jupyter-widgets/controls",
            "_view_module_version": "1.5.0",
            "_view_name": "DropdownView",
            "description": "Target:",
            "description_tooltip": null,
            "disabled": false,
            "index": 1,
            "layout": "IPY_MODEL_51e6e94f830f494e87588f6eb5d252ee",
            "style": "IPY_MODEL_1f2a1965c5ec4fd99141cbd69a01f982"
          }
        },
        "51e6e94f830f494e87588f6eb5d252ee": {
          "model_module": "@jupyter-widgets/base",
          "model_name": "LayoutModel",
          "model_module_version": "1.2.0",
          "state": {
            "_model_module": "@jupyter-widgets/base",
            "_model_module_version": "1.2.0",
            "_model_name": "LayoutModel",
            "_view_count": null,
            "_view_module": "@jupyter-widgets/base",
            "_view_module_version": "1.2.0",
            "_view_name": "LayoutView",
            "align_content": null,
            "align_items": null,
            "align_self": null,
            "border": null,
            "bottom": null,
            "display": null,
            "flex": null,
            "flex_flow": null,
            "grid_area": null,
            "grid_auto_columns": null,
            "grid_auto_flow": null,
            "grid_auto_rows": null,
            "grid_column": null,
            "grid_gap": null,
            "grid_row": null,
            "grid_template_areas": null,
            "grid_template_columns": null,
            "grid_template_rows": null,
            "height": null,
            "justify_content": null,
            "justify_items": null,
            "left": null,
            "margin": null,
            "max_height": null,
            "max_width": null,
            "min_height": null,
            "min_width": null,
            "object_fit": null,
            "object_position": null,
            "order": null,
            "overflow": null,
            "overflow_x": null,
            "overflow_y": null,
            "padding": null,
            "right": null,
            "top": null,
            "visibility": null,
            "width": null
          }
        },
        "1f2a1965c5ec4fd99141cbd69a01f982": {
          "model_module": "@jupyter-widgets/controls",
          "model_name": "DescriptionStyleModel",
          "model_module_version": "1.5.0",
          "state": {
            "_model_module": "@jupyter-widgets/controls",
            "_model_module_version": "1.5.0",
            "_model_name": "DescriptionStyleModel",
            "_view_count": null,
            "_view_module": "@jupyter-widgets/base",
            "_view_module_version": "1.2.0",
            "_view_name": "StyleView",
            "description_width": ""
          }
        },
        "37c155eefd4f4617b4281d7ba9026712": {
          "model_module": "@jupyter-widgets/controls",
          "model_name": "BoundedFloatTextModel",
          "model_module_version": "1.5.0",
          "state": {
            "_dom_classes": [],
            "_model_module": "@jupyter-widgets/controls",
            "_model_module_version": "1.5.0",
            "_model_name": "BoundedFloatTextModel",
            "_view_count": null,
            "_view_module": "@jupyter-widgets/controls",
            "_view_module_version": "1.5.0",
            "_view_name": "FloatTextView",
            "continuous_update": false,
            "description": "Amount:",
            "description_tooltip": null,
            "disabled": false,
            "layout": "IPY_MODEL_deb5d87596b8401b87cb91f81cc410f9",
            "max": 100,
            "min": 0,
            "step": null,
            "style": "IPY_MODEL_8c776a64380440508eb6201543006f7c",
            "value": 100
          }
        },
        "deb5d87596b8401b87cb91f81cc410f9": {
          "model_module": "@jupyter-widgets/base",
          "model_name": "LayoutModel",
          "model_module_version": "1.2.0",
          "state": {
            "_model_module": "@jupyter-widgets/base",
            "_model_module_version": "1.2.0",
            "_model_name": "LayoutModel",
            "_view_count": null,
            "_view_module": "@jupyter-widgets/base",
            "_view_module_version": "1.2.0",
            "_view_name": "LayoutView",
            "align_content": null,
            "align_items": null,
            "align_self": null,
            "border": null,
            "bottom": null,
            "display": null,
            "flex": null,
            "flex_flow": null,
            "grid_area": null,
            "grid_auto_columns": null,
            "grid_auto_flow": null,
            "grid_auto_rows": null,
            "grid_column": null,
            "grid_gap": null,
            "grid_row": null,
            "grid_template_areas": null,
            "grid_template_columns": null,
            "grid_template_rows": null,
            "height": null,
            "justify_content": null,
            "justify_items": null,
            "left": null,
            "margin": null,
            "max_height": null,
            "max_width": null,
            "min_height": null,
            "min_width": null,
            "object_fit": null,
            "object_position": null,
            "order": null,
            "overflow": null,
            "overflow_x": null,
            "overflow_y": null,
            "padding": null,
            "right": null,
            "top": null,
            "visibility": null,
            "width": null
          }
        },
        "8c776a64380440508eb6201543006f7c": {
          "model_module": "@jupyter-widgets/controls",
          "model_name": "DescriptionStyleModel",
          "model_module_version": "1.5.0",
          "state": {
            "_model_module": "@jupyter-widgets/controls",
            "_model_module_version": "1.5.0",
            "_model_name": "DescriptionStyleModel",
            "_view_count": null,
            "_view_module": "@jupyter-widgets/base",
            "_view_module_version": "1.2.0",
            "_view_name": "StyleView",
            "description_width": ""
          }
        },
        "e737c76245eb42ed858ae1e65e848892": {
          "model_module": "@jupyter-widgets/controls",
          "model_name": "ButtonModel",
          "model_module_version": "1.5.0",
          "state": {
            "_dom_classes": [],
            "_model_module": "@jupyter-widgets/controls",
            "_model_module_version": "1.5.0",
            "_model_name": "ButtonModel",
            "_view_count": null,
            "_view_module": "@jupyter-widgets/controls",
            "_view_module_version": "1.5.0",
            "_view_name": "ButtonView",
            "button_style": "",
            "description": "Convert",
            "disabled": false,
            "icon": "",
            "layout": "IPY_MODEL_fb00ab9b56094685a0428ec17ac61464",
            "style": "IPY_MODEL_9858e5c409df443cb4bb0c0c2f00d17f",
            "tooltip": ""
          }
        },
        "fb00ab9b56094685a0428ec17ac61464": {
          "model_module": "@jupyter-widgets/base",
          "model_name": "LayoutModel",
          "model_module_version": "1.2.0",
          "state": {
            "_model_module": "@jupyter-widgets/base",
            "_model_module_version": "1.2.0",
            "_model_name": "LayoutModel",
            "_view_count": null,
            "_view_module": "@jupyter-widgets/base",
            "_view_module_version": "1.2.0",
            "_view_name": "LayoutView",
            "align_content": null,
            "align_items": null,
            "align_self": null,
            "border": null,
            "bottom": null,
            "display": null,
            "flex": null,
            "flex_flow": null,
            "grid_area": null,
            "grid_auto_columns": null,
            "grid_auto_flow": null,
            "grid_auto_rows": null,
            "grid_column": null,
            "grid_gap": null,
            "grid_row": null,
            "grid_template_areas": null,
            "grid_template_columns": null,
            "grid_template_rows": null,
            "height": null,
            "justify_content": null,
            "justify_items": null,
            "left": null,
            "margin": null,
            "max_height": null,
            "max_width": null,
            "min_height": null,
            "min_width": null,
            "object_fit": null,
            "object_position": null,
            "order": null,
            "overflow": null,
            "overflow_x": null,
            "overflow_y": null,
            "padding": null,
            "right": null,
            "top": null,
            "visibility": null,
            "width": null
          }
        },
        "9858e5c409df443cb4bb0c0c2f00d17f": {
          "model_module": "@jupyter-widgets/controls",
          "model_name": "ButtonStyleModel",
          "model_module_version": "1.5.0",
          "state": {
            "_model_module": "@jupyter-widgets/controls",
            "_model_module_version": "1.5.0",
            "_model_name": "ButtonStyleModel",
            "_view_count": null,
            "_view_module": "@jupyter-widgets/base",
            "_view_module_version": "1.2.0",
            "_view_name": "StyleView",
            "button_color": null,
            "font_weight": ""
          }
        },
        "3d58eab44bef4cd796401bb51b5f532a": {
          "model_module": "@jupyter-widgets/output",
          "model_name": "OutputModel",
          "model_module_version": "1.0.0",
          "state": {
            "_dom_classes": [],
            "_model_module": "@jupyter-widgets/output",
            "_model_module_version": "1.0.0",
            "_model_name": "OutputModel",
            "_view_count": null,
            "_view_module": "@jupyter-widgets/output",
            "_view_module_version": "1.0.0",
            "_view_name": "OutputView",
            "layout": "IPY_MODEL_09b037a0dc9f4a1699ad1cb85cbf0025",
            "msg_id": "",
            "outputs": [
              {
                "output_type": "stream",
                "name": "stdout",
                "text": [
                  "100.0 USD = 159.00 AUD\n"
                ]
              }
            ]
          }
        },
        "09b037a0dc9f4a1699ad1cb85cbf0025": {
          "model_module": "@jupyter-widgets/base",
          "model_name": "LayoutModel",
          "model_module_version": "1.2.0",
          "state": {
            "_model_module": "@jupyter-widgets/base",
            "_model_module_version": "1.2.0",
            "_model_name": "LayoutModel",
            "_view_count": null,
            "_view_module": "@jupyter-widgets/base",
            "_view_module_version": "1.2.0",
            "_view_name": "LayoutView",
            "align_content": null,
            "align_items": null,
            "align_self": null,
            "border": null,
            "bottom": null,
            "display": null,
            "flex": null,
            "flex_flow": null,
            "grid_area": null,
            "grid_auto_columns": null,
            "grid_auto_flow": null,
            "grid_auto_rows": null,
            "grid_column": null,
            "grid_gap": null,
            "grid_row": null,
            "grid_template_areas": null,
            "grid_template_columns": null,
            "grid_template_rows": null,
            "height": null,
            "justify_content": null,
            "justify_items": null,
            "left": null,
            "margin": null,
            "max_height": null,
            "max_width": null,
            "min_height": null,
            "min_width": null,
            "object_fit": null,
            "object_position": null,
            "order": null,
            "overflow": null,
            "overflow_x": null,
            "overflow_y": null,
            "padding": null,
            "right": null,
            "top": null,
            "visibility": null,
            "width": null
          }
        },
        "9f559f898c5846c6ab40821815e14b64": {
          "model_module": "@jupyter-widgets/controls",
          "model_name": "FloatTextModel",
          "model_module_version": "1.5.0",
          "state": {
            "_dom_classes": [],
            "_model_module": "@jupyter-widgets/controls",
            "_model_module_version": "1.5.0",
            "_model_name": "FloatTextModel",
            "_view_count": null,
            "_view_module": "@jupyter-widgets/controls",
            "_view_module_version": "1.5.0",
            "_view_name": "FloatTextView",
            "continuous_update": false,
            "description": "Enter a number:",
            "description_tooltip": null,
            "disabled": false,
            "layout": "IPY_MODEL_f79aceb69ce843c78c278abeb097f7ea",
            "step": null,
            "style": "IPY_MODEL_58dcddf3654940dbbef4683820f1cb6c",
            "value": 5
          }
        },
        "f79aceb69ce843c78c278abeb097f7ea": {
          "model_module": "@jupyter-widgets/base",
          "model_name": "LayoutModel",
          "model_module_version": "1.2.0",
          "state": {
            "_model_module": "@jupyter-widgets/base",
            "_model_module_version": "1.2.0",
            "_model_name": "LayoutModel",
            "_view_count": null,
            "_view_module": "@jupyter-widgets/base",
            "_view_module_version": "1.2.0",
            "_view_name": "LayoutView",
            "align_content": null,
            "align_items": null,
            "align_self": null,
            "border": null,
            "bottom": null,
            "display": null,
            "flex": null,
            "flex_flow": null,
            "grid_area": null,
            "grid_auto_columns": null,
            "grid_auto_flow": null,
            "grid_auto_rows": null,
            "grid_column": null,
            "grid_gap": null,
            "grid_row": null,
            "grid_template_areas": null,
            "grid_template_columns": null,
            "grid_template_rows": null,
            "height": null,
            "justify_content": null,
            "justify_items": null,
            "left": null,
            "margin": null,
            "max_height": null,
            "max_width": null,
            "min_height": null,
            "min_width": null,
            "object_fit": null,
            "object_position": null,
            "order": null,
            "overflow": null,
            "overflow_x": null,
            "overflow_y": null,
            "padding": null,
            "right": null,
            "top": null,
            "visibility": null,
            "width": null
          }
        },
        "58dcddf3654940dbbef4683820f1cb6c": {
          "model_module": "@jupyter-widgets/controls",
          "model_name": "DescriptionStyleModel",
          "model_module_version": "1.5.0",
          "state": {
            "_model_module": "@jupyter-widgets/controls",
            "_model_module_version": "1.5.0",
            "_model_name": "DescriptionStyleModel",
            "_view_count": null,
            "_view_module": "@jupyter-widgets/base",
            "_view_module_version": "1.2.0",
            "_view_name": "StyleView",
            "description_width": ""
          }
        },
        "b6ea82a22e964bbcab32790cdd707ba6": {
          "model_module": "@jupyter-widgets/controls",
          "model_name": "ButtonModel",
          "model_module_version": "1.5.0",
          "state": {
            "_dom_classes": [],
            "_model_module": "@jupyter-widgets/controls",
            "_model_module_version": "1.5.0",
            "_model_name": "ButtonModel",
            "_view_count": null,
            "_view_module": "@jupyter-widgets/controls",
            "_view_module_version": "1.5.0",
            "_view_name": "ButtonView",
            "button_style": "",
            "description": "Calculate Square",
            "disabled": false,
            "icon": "",
            "layout": "IPY_MODEL_85352a8f97fe4a8ea38c7c37a9476d30",
            "style": "IPY_MODEL_99db5ec60e714b96a37e3de559f9e0e0",
            "tooltip": ""
          }
        },
        "85352a8f97fe4a8ea38c7c37a9476d30": {
          "model_module": "@jupyter-widgets/base",
          "model_name": "LayoutModel",
          "model_module_version": "1.2.0",
          "state": {
            "_model_module": "@jupyter-widgets/base",
            "_model_module_version": "1.2.0",
            "_model_name": "LayoutModel",
            "_view_count": null,
            "_view_module": "@jupyter-widgets/base",
            "_view_module_version": "1.2.0",
            "_view_name": "LayoutView",
            "align_content": null,
            "align_items": null,
            "align_self": null,
            "border": null,
            "bottom": null,
            "display": null,
            "flex": null,
            "flex_flow": null,
            "grid_area": null,
            "grid_auto_columns": null,
            "grid_auto_flow": null,
            "grid_auto_rows": null,
            "grid_column": null,
            "grid_gap": null,
            "grid_row": null,
            "grid_template_areas": null,
            "grid_template_columns": null,
            "grid_template_rows": null,
            "height": null,
            "justify_content": null,
            "justify_items": null,
            "left": null,
            "margin": null,
            "max_height": null,
            "max_width": null,
            "min_height": null,
            "min_width": null,
            "object_fit": null,
            "object_position": null,
            "order": null,
            "overflow": null,
            "overflow_x": null,
            "overflow_y": null,
            "padding": null,
            "right": null,
            "top": null,
            "visibility": null,
            "width": null
          }
        },
        "99db5ec60e714b96a37e3de559f9e0e0": {
          "model_module": "@jupyter-widgets/controls",
          "model_name": "ButtonStyleModel",
          "model_module_version": "1.5.0",
          "state": {
            "_model_module": "@jupyter-widgets/controls",
            "_model_module_version": "1.5.0",
            "_model_name": "ButtonStyleModel",
            "_view_count": null,
            "_view_module": "@jupyter-widgets/base",
            "_view_module_version": "1.2.0",
            "_view_name": "StyleView",
            "button_color": null,
            "font_weight": ""
          }
        },
        "8969de37742b4dbeb17bbab0fe27aa2c": {
          "model_module": "@jupyter-widgets/output",
          "model_name": "OutputModel",
          "model_module_version": "1.0.0",
          "state": {
            "_dom_classes": [],
            "_model_module": "@jupyter-widgets/output",
            "_model_module_version": "1.0.0",
            "_model_name": "OutputModel",
            "_view_count": null,
            "_view_module": "@jupyter-widgets/output",
            "_view_module_version": "1.0.0",
            "_view_name": "OutputView",
            "layout": "IPY_MODEL_f143cd24c90a4cb08696a11164e61fc3",
            "msg_id": "",
            "outputs": [
              {
                "output_type": "stream",
                "name": "stdout",
                "text": [
                  "The square of 5.0 is 25.0.\n"
                ]
              }
            ]
          }
        },
        "f143cd24c90a4cb08696a11164e61fc3": {
          "model_module": "@jupyter-widgets/base",
          "model_name": "LayoutModel",
          "model_module_version": "1.2.0",
          "state": {
            "_model_module": "@jupyter-widgets/base",
            "_model_module_version": "1.2.0",
            "_model_name": "LayoutModel",
            "_view_count": null,
            "_view_module": "@jupyter-widgets/base",
            "_view_module_version": "1.2.0",
            "_view_name": "LayoutView",
            "align_content": null,
            "align_items": null,
            "align_self": null,
            "border": null,
            "bottom": null,
            "display": null,
            "flex": null,
            "flex_flow": null,
            "grid_area": null,
            "grid_auto_columns": null,
            "grid_auto_flow": null,
            "grid_auto_rows": null,
            "grid_column": null,
            "grid_gap": null,
            "grid_row": null,
            "grid_template_areas": null,
            "grid_template_columns": null,
            "grid_template_rows": null,
            "height": null,
            "justify_content": null,
            "justify_items": null,
            "left": null,
            "margin": null,
            "max_height": null,
            "max_width": null,
            "min_height": null,
            "min_width": null,
            "object_fit": null,
            "object_position": null,
            "order": null,
            "overflow": null,
            "overflow_x": null,
            "overflow_y": null,
            "padding": null,
            "right": null,
            "top": null,
            "visibility": null,
            "width": null
          }
        }
      }
    }
  },
  "cells": [
    {
      "cell_type": "markdown",
      "metadata": {
        "id": "view-in-github",
        "colab_type": "text"
      },
      "source": [
        "<a href=\"https://colab.research.google.com/github/hasanmdmahmudul/PythonPractice/blob/main/2025_04_02_ICT_102_Week9.ipynb\" target=\"_parent\"><img src=\"https://colab.research.google.com/assets/colab-badge.svg\" alt=\"Open In Colab\"/></a>"
      ]
    },
    {
      "cell_type": "code",
      "execution_count": null,
      "metadata": {
        "colab": {
          "base_uri": "https://localhost:8080/"
        },
        "id": "1-3eOiO2nvtT",
        "outputId": "b0ada059-e981-4e41-d1af-78f3bebc5e44"
      },
      "outputs": [
        {
          "output_type": "stream",
          "name": "stdout",
          "text": [
            "Iterative factorial (n=1000) executed in 0.000567 seconds.\n"
          ]
        }
      ],
      "source": [
        "import time\n",
        "\n",
        "def factorial_iterative(n):\n",
        "    result = 1\n",
        "    for i in range(2, n + 1):\n",
        "        result *= i  # Corrected indentation result= result*i\n",
        "    return result\n",
        "\n",
        "n = 1000\n",
        "start_time = time.time()\n",
        "result_iter = factorial_iterative(n)\n",
        "end_time = time.time()\n",
        "\n",
        "print(f\"Iterative factorial (n={n}) executed in {end_time - start_time:.6f} seconds.\")\n"
      ]
    },
    {
      "cell_type": "code",
      "source": [
        "\"\"\"\n",
        "result = 1\n",
        "\n",
        "First iteration: result = 1 * 2 = 2\n",
        "\n",
        "Second iteration: result = 2 * 3 = 6\n",
        "\n",
        "Third iteration: result = 6 * 4 = 24\n",
        "\n",
        "Fourth iteration: result = 24 * 5 = 120\n",
        "\n",
        "Return result = 120\n",
        "\"\"\""
      ],
      "metadata": {
        "colab": {
          "base_uri": "https://localhost:8080/",
          "height": 53
        },
        "id": "gHhH3MSArzxz",
        "outputId": "014c37d8-c17a-4017-a6d3-1a9647538c8e"
      },
      "execution_count": null,
      "outputs": [
        {
          "output_type": "execute_result",
          "data": {
            "text/plain": [
              "'\\nresult = 1\\n\\nFirst iteration: result = 1 * 2 = 2\\n\\nSecond iteration: result = 2 * 3 = 6\\n\\nThird iteration: result = 6 * 4 = 24\\n\\nFourth iteration: result = 24 * 5 = 120\\n\\nReturn result = 120\\n'"
            ],
            "application/vnd.google.colaboratory.intrinsic+json": {
              "type": "string"
            }
          },
          "metadata": {},
          "execution_count": 4
        }
      ]
    },
    {
      "cell_type": "code",
      "source": [
        "result=1 i=2, result=12-2 i=3, result= 23=6 i=4, result= 6*4=24"
      ],
      "metadata": {
        "id": "0O7XbhOeq4aL"
      },
      "execution_count": null,
      "outputs": []
    },
    {
      "cell_type": "markdown",
      "source": [
        "result=1\n",
        "i=2, result=1*2-2\n",
        "i=3, result= 2*3=6\n",
        "i=4, result= 6*4=24"
      ],
      "metadata": {
        "id": "KTlmpoLRq5cJ"
      }
    },
    {
      "cell_type": "code",
      "source": [
        "#Iterative= loop= fast"
      ],
      "metadata": {
        "id": "kX1QqfnmofYI"
      },
      "execution_count": null,
      "outputs": []
    },
    {
      "cell_type": "code",
      "source": [
        "import time\n",
        "import sys\n",
        "\n",
        "sys.setrecursionlimit(3000)\n",
        "\n",
        "def factorial_recursive(n):\n",
        "    if n == 0 or n == 1:\n",
        "        return 1\n",
        "    return n * factorial_recursive(n - 1)\n",
        "\n",
        "n = 1000\n",
        "\n",
        "start_time = time.time()\n",
        "result_rec = factorial_recursive(n)\n",
        "end_time = time.time()\n",
        "\n",
        "print(f\"Recursive factorial (n={n}) executed in {end_time - start_time:.6f} seconds.\")\n",
        "\n"
      ],
      "metadata": {
        "colab": {
          "base_uri": "https://localhost:8080/"
        },
        "id": "de-AkeCdoNF9",
        "outputId": "6e3a5b8d-fdfc-4a9b-b0d2-aad6191c76b6"
      },
      "execution_count": null,
      "outputs": [
        {
          "output_type": "stream",
          "name": "stdout",
          "text": [
            "Recursive factorial (n=1000) executed in 0.001006 seconds.\n"
          ]
        }
      ]
    },
    {
      "cell_type": "code",
      "source": [
        "#Recursive=function= Slow"
      ],
      "metadata": {
        "id": "QyECNEcLoSuV"
      },
      "execution_count": null,
      "outputs": []
    },
    {
      "cell_type": "code",
      "source": [
        "\n",
        "print(abs(-5))         # Output: 5\n",
        "print(pow(2, 3))       # Output: 8\n",
        "\n",
        "print(bin(10))         # Output: '0b1010'\n",
        "print(hex(255))        # Output: '0xff'\n",
        "print(oct(8))          # Output: '0o10'\n",
        "print(round(10.6))     # Output: 11\n"
      ],
      "metadata": {
        "colab": {
          "base_uri": "https://localhost:8080/"
        },
        "id": "FjyuYNpgo9p_",
        "outputId": "a28a774a-f523-4cfa-efce-317186c981fa"
      },
      "execution_count": null,
      "outputs": [
        {
          "output_type": "stream",
          "name": "stdout",
          "text": [
            "5\n",
            "8\n",
            "0b1010\n",
            "0xff\n",
            "0o10\n",
            "11\n"
          ]
        }
      ]
    },
    {
      "cell_type": "code",
      "source": [
        "print(len(\"Hello, World!\"))                   # Output: 13\n",
        "print(\"Hello, World!\".upper())                # Output: 'HELLO, WORLD!'\n",
        "print(\"Hello, World!\".lower())                # Output: 'hello, world!'\n",
        "print(\"hello world\".title())                  # Output: 'Hello World'\n",
        "print(\"Hello, World!\".count(\"o\"))             # Output: 2\n",
        "print(\"Hello, World!\".find(\"World\"))          # Output: 7\n",
        "print(\"Hello, World!\".replace(\"World\", \"Universe\"))  # Output: 'Hello, Universe!'\n",
        "print(\"Hello, World!\".split(\",\"))             # Output: ['Hello', ' World!']\n",
        "print(\" Hello, World! \".strip())              # Output: 'Hello, World!'\n",
        "print(\" \".join([\"Hello,\", \"World!\"]))         # Output: 'Hello, World!'\n",
        "print(\"Hello, World!\"[0:5])                   # Output: 'Hello'\n",
        "print(\"Hello, World!\".startswith(\"Hello\"))    # Output: True\n"
      ],
      "metadata": {
        "colab": {
          "base_uri": "https://localhost:8080/"
        },
        "id": "c5Kqi7h7pFH_",
        "outputId": "0bb19822-3e06-431e-f09a-73faf8a739f0"
      },
      "execution_count": null,
      "outputs": [
        {
          "output_type": "stream",
          "name": "stdout",
          "text": [
            "13\n",
            "HELLO, WORLD!\n",
            "hello, world!\n",
            "Hello World\n",
            "2\n",
            "7\n",
            "Hello, Universe!\n",
            "['Hello', ' World!']\n",
            "Hello, World!\n",
            "Hello, World!\n",
            "Hello\n",
            "True\n"
          ]
        }
      ]
    },
    {
      "cell_type": "code",
      "source": [
        "# Append an element\n",
        "list1 = [1, 2, 3]\n",
        "list1.append(4)\n",
        "print(list1)  # Output: [1, 2, 3, 4]\n",
        "\n"
      ],
      "metadata": {
        "colab": {
          "base_uri": "https://localhost:8080/"
        },
        "id": "K5bm5aOhpdLl",
        "outputId": "e405a1c3-4556-4051-9425-a21131398420"
      },
      "execution_count": null,
      "outputs": [
        {
          "output_type": "stream",
          "name": "stdout",
          "text": [
            "[1, 2, 3, 4]\n"
          ]
        }
      ]
    },
    {
      "cell_type": "code",
      "source": [
        "# Extend a list with another list\n",
        "list1 = [1, 2]\n",
        "list1.extend([3, 4])\n",
        "print(list1)  # Output: [1, 2, 3, 4]\n",
        "\n"
      ],
      "metadata": {
        "colab": {
          "base_uri": "https://localhost:8080/"
        },
        "id": "KBWO7qAXqPo-",
        "outputId": "ef28d203-e587-4ff4-8fa4-03a0406a8559"
      },
      "execution_count": null,
      "outputs": [
        {
          "output_type": "stream",
          "name": "stdout",
          "text": [
            "[1, 2, 3, 4]\n"
          ]
        }
      ]
    },
    {
      "cell_type": "code",
      "source": [
        "\n",
        "# Insert an element at a specific index\n",
        "list1 = [1, 2, 3]\n",
        "list1.insert(1, 'a')\n",
        "print(list1)  # Output: [1, 'a', 2, 3]\n",
        "\n"
      ],
      "metadata": {
        "colab": {
          "base_uri": "https://localhost:8080/"
        },
        "id": "RYogoAq7qUxN",
        "outputId": "abe928ca-75bc-4f83-d597-2626d57d8ec1"
      },
      "execution_count": null,
      "outputs": [
        {
          "output_type": "stream",
          "name": "stdout",
          "text": [
            "[1, 'a', 2, 3]\n"
          ]
        }
      ]
    },
    {
      "cell_type": "code",
      "source": [
        "# Remove the first occurrence of an element\n",
        "list1 = [1, 2, 3, 2]\n",
        "list1.remove(2)\n",
        "print(list1)  # Output: [1, 3, 2]\n"
      ],
      "metadata": {
        "colab": {
          "base_uri": "https://localhost:8080/"
        },
        "id": "-vW6f4DdqYsl",
        "outputId": "2f9ad925-f84a-41a9-d1b4-dd0ccefa7c40"
      },
      "execution_count": null,
      "outputs": [
        {
          "output_type": "stream",
          "name": "stdout",
          "text": [
            "[1, 3, 2]\n"
          ]
        }
      ]
    },
    {
      "cell_type": "code",
      "source": [
        "\n",
        "# Pop an element at a specific index\n",
        "list1 = [1, 2, 3]\n",
        "list1.pop(1)\n",
        "print(list1)  # Output: [1, 3]\n"
      ],
      "metadata": {
        "colab": {
          "base_uri": "https://localhost:8080/"
        },
        "id": "KxHQA3lnqbyd",
        "outputId": "dbb62f8b-6d27-425f-c4e3-53d5dedb37c4"
      },
      "execution_count": null,
      "outputs": [
        {
          "output_type": "stream",
          "name": "stdout",
          "text": [
            "[1, 3]\n"
          ]
        }
      ]
    },
    {
      "cell_type": "code",
      "source": [
        "\n",
        "# Clear all elements from the list\n",
        "list1 = [1, 2, 3]\n",
        "list1.clear()\n",
        "print(list1)  # Output: []\n",
        "\n"
      ],
      "metadata": {
        "colab": {
          "base_uri": "https://localhost:8080/"
        },
        "id": "AcrpgSnqqehF",
        "outputId": "def0c627-68ef-4077-8b31-55218089e114"
      },
      "execution_count": null,
      "outputs": [
        {
          "output_type": "stream",
          "name": "stdout",
          "text": [
            "[]\n"
          ]
        }
      ]
    },
    {
      "cell_type": "code",
      "source": [
        "# Find the index of the first occurrence of an element\n",
        "list1 = [1, 2, 3, 2]\n",
        "print(list1.index(2))  # Output: 1\n"
      ],
      "metadata": {
        "colab": {
          "base_uri": "https://localhost:8080/"
        },
        "id": "3bTR2S5uqhSd",
        "outputId": "debef98d-a37f-44f7-a127-769e2e838f38"
      },
      "execution_count": null,
      "outputs": [
        {
          "output_type": "stream",
          "name": "stdout",
          "text": [
            "1\n"
          ]
        }
      ]
    },
    {
      "cell_type": "code",
      "source": [
        "\n",
        "# Count occurrences of an element\n",
        "list1 = [1, 2, 3, 2]\n",
        "print(list1.count(2))  # Output: 2\n"
      ],
      "metadata": {
        "colab": {
          "base_uri": "https://localhost:8080/"
        },
        "id": "EOyHGAx5qj5L",
        "outputId": "ee655f0a-c3d1-4a48-c97b-67a895bd14fa"
      },
      "execution_count": null,
      "outputs": [
        {
          "output_type": "stream",
          "name": "stdout",
          "text": [
            "2\n"
          ]
        }
      ]
    },
    {
      "cell_type": "code",
      "source": [
        "\n",
        "# Sort the list in ascending order\n",
        "list1 = [2, 1, 3, 4]\n",
        "list1.sort()\n",
        "print(list1)  # Output: [1, 2, 3, 4]\n"
      ],
      "metadata": {
        "colab": {
          "base_uri": "https://localhost:8080/"
        },
        "id": "istlPVNsqlik",
        "outputId": "c3bff4a7-ebdb-468c-c31d-ed85badf392d"
      },
      "execution_count": null,
      "outputs": [
        {
          "output_type": "stream",
          "name": "stdout",
          "text": [
            "[1, 2, 3, 4]\n"
          ]
        }
      ]
    },
    {
      "cell_type": "code",
      "source": [
        "\n",
        "# Reverse the list\n",
        "list1 = [1, 2, 3, 4]\n",
        "list1.reverse()\n",
        "print(list1)  # Output: [4, 3, 2, 1]\n"
      ],
      "metadata": {
        "colab": {
          "base_uri": "https://localhost:8080/"
        },
        "id": "tBJQ2wbbqnId",
        "outputId": "1e8ff15c-2679-44f8-df13-ac849d1034c3"
      },
      "execution_count": null,
      "outputs": [
        {
          "output_type": "stream",
          "name": "stdout",
          "text": [
            "[4, 3, 2, 1]\n"
          ]
        }
      ]
    },
    {
      "cell_type": "code",
      "source": [
        "\n",
        "# Get the length of the list\n",
        "list1 = [1, 2, 3, 4]\n",
        "print(len(list1))  # Output: 4\n"
      ],
      "metadata": {
        "id": "kKbVN6FSqoC3",
        "outputId": "edfc34c6-a068-4d93-dce6-6a233ee23e1b",
        "colab": {
          "base_uri": "https://localhost:8080/"
        }
      },
      "execution_count": null,
      "outputs": [
        {
          "output_type": "stream",
          "name": "stdout",
          "text": [
            "4\n"
          ]
        }
      ]
    },
    {
      "cell_type": "code",
      "source": [
        "\n",
        "# Convert a string into a list of characters\n",
        "str1 = \"hello\"\n",
        "print(list(str1))  # Output: ['h', 'e', 'l', 'l', 'o']\n"
      ],
      "metadata": {
        "id": "sKDT2OetqpCN",
        "outputId": "a8f7534f-d5ca-4716-a228-13dd5cce7ded",
        "colab": {
          "base_uri": "https://localhost:8080/"
        }
      },
      "execution_count": null,
      "outputs": [
        {
          "output_type": "stream",
          "name": "stdout",
          "text": [
            "['h', 'e', 'l', 'l', 'o']\n"
          ]
        }
      ]
    },
    {
      "cell_type": "code",
      "source": [
        "\n",
        "# Get the sum of all elements in the list\n",
        "list1 = [1, 2, 3, 4]\n",
        "print(sum(list1))  # Output: 10"
      ],
      "metadata": {
        "id": "yFrfyHQjqp_d",
        "outputId": "ef88b4f5-36b0-4186-83a8-03340e6eeebb",
        "colab": {
          "base_uri": "https://localhost:8080/"
        }
      },
      "execution_count": null,
      "outputs": [
        {
          "output_type": "stream",
          "name": "stdout",
          "text": [
            "10\n"
          ]
        }
      ]
    },
    {
      "cell_type": "code",
      "source": [
        "items = [\"apple\", \"banana\", \"cherry\"]\n",
        "\n",
        "while True:\n",
        "    new_item = input(\"Enter a new item (or type 'exit' to quit): \").strip().lower()\n",
        "\n",
        "    if new_item == 'exit':\n",
        "        print(\"Exiting the program. Goodbye!\")\n",
        "        break\n",
        "\n",
        "    if new_item in items:\n",
        "        print(\"The item already exists in the list, please enter another value.\")\n",
        "    else:\n",
        "        items.append(new_item)\n",
        "        print(\"Item added successfully.\")\n",
        "        print(\"Updated list:\", items)"
      ],
      "metadata": {
        "id": "MUxhdnT_qqec",
        "colab": {
          "base_uri": "https://localhost:8080/"
        },
        "outputId": "71723afe-a31d-4208-d4dd-661d7ddefdec"
      },
      "execution_count": null,
      "outputs": [
        {
          "output_type": "stream",
          "name": "stdout",
          "text": [
            "Enter a new item (or type 'exit' to quit): orange\n",
            "Item added successfully.\n",
            "Updated list: ['apple', 'banana', 'cherry', 'orange']\n",
            "Enter a new item (or type 'exit' to quit): exit\n",
            "Exiting the program. Goodbye!\n"
          ]
        }
      ]
    },
    {
      "cell_type": "code",
      "source": [
        "def char_frequency(str1):\n",
        "    dict = {}\n",
        "    for n in str1:\n",
        "        keys = dict.keys()\n",
        "        if n in keys:\n",
        "            dict[n] += 1\n",
        "        else:\n",
        "            dict[n] = 1\n",
        "    return dict\n",
        "print(char_frequency(\"Hello, World!\"))"
      ],
      "metadata": {
        "colab": {
          "base_uri": "https://localhost:8080/"
        },
        "id": "A5qwgaj_laF8",
        "outputId": "bb54ae80-caec-439f-940d-90251dbfb9ac"
      },
      "execution_count": null,
      "outputs": [
        {
          "output_type": "stream",
          "name": "stdout",
          "text": [
            "{'H': 1, 'e': 1, 'l': 3, 'o': 2, ',': 1, ' ': 1, 'W': 1, 'r': 1, 'd': 1, '!': 1}\n"
          ]
        }
      ]
    },
    {
      "cell_type": "code",
      "source": [
        "import ipywidgets as widgets\n",
        "import requests\n",
        "from IPython.display import display\n",
        "\n",
        "# Function to perform currency conversion\n",
        "def convert_currency(b):\n",
        "    base_currency = base_currency_dropdown.value\n",
        "    target_currency = target_currency_dropdown.value\n",
        "    amount = amount_input.value\n",
        "\n",
        "    with result_output:\n",
        "        result_output.clear_output()\n",
        "        try:\n",
        "            url = f\"https://api.exchangerate-api.com/v4/latest/{base_currency}\"\n",
        "            response = requests.get(url)\n",
        "            data = response.json()\n",
        "\n",
        "            if target_currency in data['rates']:\n",
        "                exchange_rate = data['rates'][target_currency]\n",
        "                converted_amount = float(amount) * exchange_rate\n",
        "                print(f\"{amount} {base_currency} = {converted_amount:.2f} {target_currency}\")\n",
        "            else:\n",
        "                print(f\"Exchange rate for {target_currency} not available.\")\n",
        "        except Exception:\n",
        "            print(\"Error fetching data. Please try again.\")\n",
        "\n",
        "# Define currency options (added EUR, GBP, JPY, CAD)\n",
        "currencies = [\"USD\", \"AUD\", \"NPR\", \"BDT\", \"INR\", \"PKR\", \"EUR\", \"GBP\", \"JPY\", \"CAD\"]\n",
        "\n",
        "# Base currency selection\n",
        "base_currency_dropdown = widgets.Dropdown(options=currencies, value=\"USD\", description=\"Base:\")\n",
        "\n",
        "# Target currency selection\n",
        "target_currency_dropdown = widgets.Dropdown(options=currencies, value=\"AUD\", description=\"Target:\")\n",
        "\n",
        "# Amount entry\n",
        "amount_input = widgets.BoundedFloatText(value=100, min=0, description=\"Amount:\")\n",
        "\n",
        "# Convert button\n",
        "convert_button = widgets.Button(description=\"Convert\")\n",
        "convert_button.on_click(convert_currency)\n",
        "\n",
        "# Output message box\n",
        "result_output = widgets.Output()\n",
        "\n",
        "display(base_currency_dropdown, target_currency_dropdown, amount_input, convert_button, result_output)"
      ],
      "metadata": {
        "colab": {
          "base_uri": "https://localhost:8080/",
          "height": 159,
          "referenced_widgets": [
            "4803ea8526e148ed8e1972ef6ec9521e",
            "c2f1d64ea0474d17abaa0e9c573a9293",
            "d398ff8eb5a04a23bba0a03e6f96a833",
            "8e39fdc74a4d4e8b95102c61ad4f9a36",
            "51e6e94f830f494e87588f6eb5d252ee",
            "1f2a1965c5ec4fd99141cbd69a01f982",
            "37c155eefd4f4617b4281d7ba9026712",
            "deb5d87596b8401b87cb91f81cc410f9",
            "8c776a64380440508eb6201543006f7c",
            "e737c76245eb42ed858ae1e65e848892",
            "fb00ab9b56094685a0428ec17ac61464",
            "9858e5c409df443cb4bb0c0c2f00d17f",
            "3d58eab44bef4cd796401bb51b5f532a",
            "09b037a0dc9f4a1699ad1cb85cbf0025"
          ]
        },
        "id": "oq6YmRrXwfan",
        "outputId": "6f5c0367-85b8-4d23-b91a-eef9487cec70"
      },
      "execution_count": 9,
      "outputs": [
        {
          "output_type": "display_data",
          "data": {
            "text/plain": [
              "Dropdown(description='Base:', options=('USD', 'AUD', 'NPR', 'BDT', 'INR', 'PKR', 'EUR', 'GBP', 'JPY', 'CAD'), …"
            ],
            "application/vnd.jupyter.widget-view+json": {
              "version_major": 2,
              "version_minor": 0,
              "model_id": "4803ea8526e148ed8e1972ef6ec9521e"
            }
          },
          "metadata": {}
        },
        {
          "output_type": "display_data",
          "data": {
            "text/plain": [
              "Dropdown(description='Target:', index=1, options=('USD', 'AUD', 'NPR', 'BDT', 'INR', 'PKR', 'EUR', 'GBP', 'JPY…"
            ],
            "application/vnd.jupyter.widget-view+json": {
              "version_major": 2,
              "version_minor": 0,
              "model_id": "8e39fdc74a4d4e8b95102c61ad4f9a36"
            }
          },
          "metadata": {}
        },
        {
          "output_type": "display_data",
          "data": {
            "text/plain": [
              "BoundedFloatText(value=100.0, description='Amount:')"
            ],
            "application/vnd.jupyter.widget-view+json": {
              "version_major": 2,
              "version_minor": 0,
              "model_id": "37c155eefd4f4617b4281d7ba9026712"
            }
          },
          "metadata": {}
        },
        {
          "output_type": "display_data",
          "data": {
            "text/plain": [
              "Button(description='Convert', style=ButtonStyle())"
            ],
            "application/vnd.jupyter.widget-view+json": {
              "version_major": 2,
              "version_minor": 0,
              "model_id": "e737c76245eb42ed858ae1e65e848892"
            }
          },
          "metadata": {}
        },
        {
          "output_type": "display_data",
          "data": {
            "text/plain": [
              "Output()"
            ],
            "application/vnd.jupyter.widget-view+json": {
              "version_major": 2,
              "version_minor": 0,
              "model_id": "3d58eab44bef4cd796401bb51b5f532a"
            }
          },
          "metadata": {}
        }
      ]
    },
    {
      "cell_type": "code",
      "source": [
        "import ipywidgets as widgets\n",
        "from IPython.display import display\n",
        "\n",
        "# Function to calculate the square of the entered number\n",
        "def calculate_square(b):\n",
        "    with output:\n",
        "        output.clear_output()  # Clear previous output\n",
        "        try:\n",
        "            number = float(entry.value)  # Get the value from the entry widget\n",
        "            square = number ** 2  # Calculate the square\n",
        "            print(f\"The square of {number} is {square}.\")  # Display result\n",
        "        except ValueError:\n",
        "            print(\"Please enter a valid number.\")  # Error message\n",
        "\n",
        "# Create an entry widget for user input\n",
        "entry = widgets.FloatText(description=\"Enter a number:\")\n",
        "display(entry)\n",
        "\n",
        "# Create a button to trigger square calculation\n",
        "button = widgets.Button(description=\"Calculate Square\")\n",
        "button.on_click(calculate_square)\n",
        "display(button)\n",
        "\n",
        "# Create an output widget to display the result\n",
        "output = widgets.Output()\n",
        "display(output)\n"
      ],
      "metadata": {
        "colab": {
          "base_uri": "https://localhost:8080/",
          "height": 99,
          "referenced_widgets": [
            "9f559f898c5846c6ab40821815e14b64",
            "f79aceb69ce843c78c278abeb097f7ea",
            "58dcddf3654940dbbef4683820f1cb6c",
            "b6ea82a22e964bbcab32790cdd707ba6",
            "85352a8f97fe4a8ea38c7c37a9476d30",
            "99db5ec60e714b96a37e3de559f9e0e0",
            "8969de37742b4dbeb17bbab0fe27aa2c",
            "f143cd24c90a4cb08696a11164e61fc3"
          ]
        },
        "id": "eLCBS2ycwvbR",
        "outputId": "31c9eb69-938c-4fa9-8f2a-d0356660c313"
      },
      "execution_count": 12,
      "outputs": [
        {
          "output_type": "display_data",
          "data": {
            "text/plain": [
              "FloatText(value=0.0, description='Enter a number:')"
            ],
            "application/vnd.jupyter.widget-view+json": {
              "version_major": 2,
              "version_minor": 0,
              "model_id": "9f559f898c5846c6ab40821815e14b64"
            }
          },
          "metadata": {}
        },
        {
          "output_type": "display_data",
          "data": {
            "text/plain": [
              "Button(description='Calculate Square', style=ButtonStyle())"
            ],
            "application/vnd.jupyter.widget-view+json": {
              "version_major": 2,
              "version_minor": 0,
              "model_id": "b6ea82a22e964bbcab32790cdd707ba6"
            }
          },
          "metadata": {}
        },
        {
          "output_type": "display_data",
          "data": {
            "text/plain": [
              "Output()"
            ],
            "application/vnd.jupyter.widget-view+json": {
              "version_major": 2,
              "version_minor": 0,
              "model_id": "8969de37742b4dbeb17bbab0fe27aa2c"
            }
          },
          "metadata": {}
        }
      ]
    },
    {
      "cell_type": "code",
      "source": [],
      "metadata": {
        "id": "50sK2k2oyBhj"
      },
      "execution_count": null,
      "outputs": []
    }
  ]
}