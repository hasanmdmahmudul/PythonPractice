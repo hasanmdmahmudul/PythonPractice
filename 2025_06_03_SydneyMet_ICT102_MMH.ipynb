{
  "nbformat": 4,
  "nbformat_minor": 0,
  "metadata": {
    "colab": {
      "provenance": [],
      "authorship_tag": "ABX9TyN192Qlu/zXHRXI1KBjcsmr",
      "include_colab_link": true
    },
    "kernelspec": {
      "name": "python3",
      "display_name": "Python 3"
    },
    "language_info": {
      "name": "python"
    }
  },
  "cells": [
    {
      "cell_type": "markdown",
      "metadata": {
        "id": "view-in-github",
        "colab_type": "text"
      },
      "source": [
        "<a href=\"https://colab.research.google.com/github/hasanmdmahmudul/PythonPractice/blob/main/2025_06_03_SydneyMet_ICT102_MMH.ipynb\" target=\"_parent\"><img src=\"https://colab.research.google.com/assets/colab-badge.svg\" alt=\"Open In Colab\"/></a>"
      ]
    },
    {
      "cell_type": "code",
      "execution_count": null,
      "metadata": {
        "id": "gFfr9ixl6P1L"
      },
      "outputs": [],
      "source": []
    },
    {
      "cell_type": "markdown",
      "source": [
        "User Defined Function"
      ],
      "metadata": {
        "id": "IxAgWE8m6iJd"
      }
    },
    {
      "cell_type": "code",
      "source": [
        "# Define the function to add two numbers\n",
        "def add_numbers(x, y):\n",
        "    sum_result = x + y\n",
        "    return sum_result\n",
        "\n",
        "# Example\n",
        "num1 = 5\n",
        "num2 = 10\n",
        "result = add_numbers(num1, num2)\n",
        "\n",
        "# Print the result\n",
        "print(f\"The sum of {num1} and {num2} is: {result}\")\n"
      ],
      "metadata": {
        "colab": {
          "base_uri": "https://localhost:8080/"
        },
        "id": "S5gpsfdi6kl2",
        "outputId": "dbddae71-68b5-4866-cd16-a80b62fc687d"
      },
      "execution_count": 1,
      "outputs": [
        {
          "output_type": "stream",
          "name": "stdout",
          "text": [
            "The sum of 5 and 10 is: 15\n"
          ]
        }
      ]
    },
    {
      "cell_type": "code",
      "source": [],
      "metadata": {
        "id": "rn3m8Xuj6ovf"
      },
      "execution_count": null,
      "outputs": []
    },
    {
      "cell_type": "markdown",
      "source": [
        "Take the two inputs from keyboard:"
      ],
      "metadata": {
        "id": "aKGJcAnr6vo_"
      }
    },
    {
      "cell_type": "code",
      "source": [
        "# Function to add two integers\n",
        "def add_numbers(x: int, y: int) -> int:\n",
        "    return x + y\n",
        "\n",
        "# Taking input from the keyboard and converting to int\n",
        "num1 = int(input(\"Enter the first integer: \"))\n",
        "num2 = int(input(\"Enter the second integer: \"))\n",
        "\n",
        "# Calling the function and displaying the result\n",
        "result = add_numbers(num1, num2)\n",
        "print(f\"The sum of {num1} and {num2} is: {result}\")\n"
      ],
      "metadata": {
        "colab": {
          "base_uri": "https://localhost:8080/"
        },
        "id": "9zo-daBB7ZZN",
        "outputId": "58519c21-aedb-418e-d208-2bdcf5eb8c55"
      },
      "execution_count": 4,
      "outputs": [
        {
          "output_type": "stream",
          "name": "stdout",
          "text": [
            "Enter the first integer: 1\n",
            "Enter the second integer: 2\n",
            "The sum of 1 and 2 is: 3\n"
          ]
        }
      ]
    },
    {
      "cell_type": "code",
      "source": [
        "# Function to add two numbers\n",
        "def add_numbers(x, y):\n",
        "    return x + y\n",
        "\n",
        "# Taking input from the keyboard\n",
        "num1 = float(input(\"Enter the first number: \"))\n",
        "num2 = float(input(\"Enter the second number: \"))\n",
        "\n",
        "# Calling the function and displaying the result\n",
        "result = add_numbers(num1, num2)\n",
        "print(f\"The sum of {num1} and {num2} is: {result}\")\n"
      ],
      "metadata": {
        "colab": {
          "base_uri": "https://localhost:8080/"
        },
        "id": "CBcqTonu6wDk",
        "outputId": "19a2f08e-6ccb-4cfe-a0be-3c882f55c094"
      },
      "execution_count": 5,
      "outputs": [
        {
          "output_type": "stream",
          "name": "stdout",
          "text": [
            "Enter the first number: 1\n",
            "Enter the second number: 2\n",
            "The sum of 1.0 and 2.0 is: 3.0\n"
          ]
        }
      ]
    },
    {
      "cell_type": "code",
      "source": [],
      "metadata": {
        "id": "sQKz3Skh6ylv"
      },
      "execution_count": 5,
      "outputs": []
    },
    {
      "cell_type": "markdown",
      "source": [
        "Function signature"
      ],
      "metadata": {
        "id": "hu1MDbaa7LfX"
      }
    },
    {
      "cell_type": "code",
      "source": [
        "# Function with type hints\n",
        "def add_numbers(x: int, y: int) -> int:\n",
        "    return x + y\n",
        "\n",
        "# Taking input from the keyboard and converting to int\n",
        "num1 = int(input(\"Enter the first integer: \"))\n",
        "num2 = int(input(\"Enter the second integer: \"))\n",
        "\n",
        "# Calling the function and displaying the result\n",
        "result = add_numbers(num1, num2)\n",
        "print(f\"The sum of {num1} and {num2} is: {result}\")\n"
      ],
      "metadata": {
        "colab": {
          "base_uri": "https://localhost:8080/"
        },
        "id": "nM8stPbl7NSE",
        "outputId": "4fb743a6-fea6-4f68-a79f-a32e61c92221"
      },
      "execution_count": 6,
      "outputs": [
        {
          "output_type": "stream",
          "name": "stdout",
          "text": [
            "Enter the first integer: 1\n",
            "Enter the second integer: 2\n",
            "The sum of 1 and 2 is: 3\n"
          ]
        }
      ]
    },
    {
      "cell_type": "code",
      "source": [],
      "metadata": {
        "id": "HqkHa1Of7PL_"
      },
      "execution_count": 6,
      "outputs": []
    },
    {
      "cell_type": "code",
      "source": [],
      "metadata": {
        "id": "27Bei1S67nim"
      },
      "execution_count": null,
      "outputs": []
    },
    {
      "cell_type": "markdown",
      "source": [
        "Scope: visibility of variables in a program"
      ],
      "metadata": {
        "id": "hljA4hfh7wd9"
      }
    },
    {
      "cell_type": "code",
      "source": [
        "# Global variable\n",
        "x = 10\n",
        "\n",
        "# Function definition\n",
        "def my_function():\n",
        "    # Local variable\n",
        "    y = 5\n",
        "    print(\"Local variable y:\", y)\n",
        "    print(\"Global variable x:\", x)\n",
        "\n",
        "# Function call\n",
        "my_function()\n",
        "\n",
        "# Access global variable outside of function\n",
        "print(\"Global variable x:\", x)\n"
      ],
      "metadata": {
        "colab": {
          "base_uri": "https://localhost:8080/"
        },
        "id": "lmsgKgAp7noV",
        "outputId": "29dd11d2-568c-4f0f-a3b6-96d26fdbded7"
      },
      "execution_count": 8,
      "outputs": [
        {
          "output_type": "stream",
          "name": "stdout",
          "text": [
            "Local variable y: 5\n",
            "Global variable x: 10\n",
            "Global variable x: 10\n"
          ]
        }
      ]
    },
    {
      "cell_type": "code",
      "source": [
        "# Global variable\n",
        "x = 10\n",
        "\n",
        "# Function definition\n",
        "def my_function():\n",
        "    # Local variable\n",
        "    y = 5\n",
        "    print(\"Local variable y:\", y)\n",
        "    print(\"Global variable x:\", x)\n",
        "\n",
        "# Function call\n",
        "my_function()\n",
        "\n",
        "# Access global variable outside of function\n",
        "print(\"Local variable y:\", y)\n"
      ],
      "metadata": {
        "colab": {
          "base_uri": "https://localhost:8080/",
          "height": 220
        },
        "id": "X-VKgozs70lM",
        "outputId": "0e996dc0-1761-426b-9973-f750b79d6e9f"
      },
      "execution_count": 9,
      "outputs": [
        {
          "output_type": "stream",
          "name": "stdout",
          "text": [
            "Local variable y: 5\n",
            "Global variable x: 10\n"
          ]
        },
        {
          "output_type": "error",
          "ename": "NameError",
          "evalue": "name 'y' is not defined",
          "traceback": [
            "\u001b[0;31m---------------------------------------------------------------------------\u001b[0m",
            "\u001b[0;31mNameError\u001b[0m                                 Traceback (most recent call last)",
            "\u001b[0;32m<ipython-input-9-1c9ad5144236>\u001b[0m in \u001b[0;36m<cell line: 0>\u001b[0;34m()\u001b[0m\n\u001b[1;32m     13\u001b[0m \u001b[0;34m\u001b[0m\u001b[0m\n\u001b[1;32m     14\u001b[0m \u001b[0;31m# Access global variable outside of function\u001b[0m\u001b[0;34m\u001b[0m\u001b[0;34m\u001b[0m\u001b[0m\n\u001b[0;32m---> 15\u001b[0;31m \u001b[0mprint\u001b[0m\u001b[0;34m(\u001b[0m\u001b[0;34m\"Local variable y:\"\u001b[0m\u001b[0;34m,\u001b[0m \u001b[0my\u001b[0m\u001b[0;34m)\u001b[0m\u001b[0;34m\u001b[0m\u001b[0;34m\u001b[0m\u001b[0m\n\u001b[0m",
            "\u001b[0;31mNameError\u001b[0m: name 'y' is not defined"
          ]
        }
      ]
    },
    {
      "cell_type": "markdown",
      "source": [],
      "metadata": {
        "id": "54lHvqQr8NNm"
      }
    },
    {
      "cell_type": "markdown",
      "source": [
        "We get a NameError because y is only visible within the function where it was defined"
      ],
      "metadata": {
        "id": "vACHBqv48UFN"
      }
    },
    {
      "cell_type": "code",
      "source": [],
      "metadata": {
        "id": "ARZ2Axcc8csV"
      },
      "execution_count": null,
      "outputs": []
    },
    {
      "cell_type": "code",
      "source": [
        "#Recursion"
      ],
      "metadata": {
        "id": "me42UwmC8cxF"
      },
      "execution_count": 11,
      "outputs": []
    },
    {
      "cell_type": "code",
      "source": [
        "def factorial(n):\n",
        "    # Base case: factorial of 0 is 1\n",
        "    if n == 0:\n",
        "        return 1\n",
        "    # Recursive case: factorial of n is n times the factorial of n-1\n",
        "    else:\n",
        "        return n * factorial(n-1)\n",
        "\n",
        "# Calculate the factorial of 5\n",
        "result = factorial(5)\n",
        "print(result)  # Output: 120\n"
      ],
      "metadata": {
        "colab": {
          "base_uri": "https://localhost:8080/"
        },
        "id": "tartRHsa8eZf",
        "outputId": "8a5e2212-22bc-4c37-b191-09b33e36996d"
      },
      "execution_count": 12,
      "outputs": [
        {
          "output_type": "stream",
          "name": "stdout",
          "text": [
            "120\n"
          ]
        }
      ]
    },
    {
      "cell_type": "code",
      "source": [
        "# Function to calculate the factorial of a number\n",
        "def factorial(n):\n",
        "    \"\"\"Calculate the factorial of a given number using recursion.\"\"\"\n",
        "\n",
        "    print(f\"Calculating factorial({n})\")  # Show the current step\n",
        "\n",
        "    # Base case: factorial of 0 is 1\n",
        "    if n == 0:\n",
        "        print(\"Reached base case: factorial(0) = 1\")\n",
        "        return 1\n",
        "\n",
        "    # Recursive case: n! = n × (n-1)!\n",
        "    else:\n",
        "        result = n * factorial(n - 1)\n",
        "        print(f\"Computed factorial({n}) = {n} × factorial({n-1}) = {result}\")\n",
        "        return result\n",
        "\n",
        "# Example: Calculate and display the factorial of 5\n",
        "number = 5\n",
        "print(f\"Factorial of {number}: {factorial(number)}\")\n"
      ],
      "metadata": {
        "colab": {
          "base_uri": "https://localhost:8080/"
        },
        "id": "7RglIaIg8jOc",
        "outputId": "4138d831-55c2-4cfa-fc69-51817bdc4b35"
      },
      "execution_count": 13,
      "outputs": [
        {
          "output_type": "stream",
          "name": "stdout",
          "text": [
            "Calculating factorial(5)\n",
            "Calculating factorial(4)\n",
            "Calculating factorial(3)\n",
            "Calculating factorial(2)\n",
            "Calculating factorial(1)\n",
            "Calculating factorial(0)\n",
            "Reached base case: factorial(0) = 1\n",
            "Computed factorial(1) = 1 × factorial(0) = 1\n",
            "Computed factorial(2) = 2 × factorial(1) = 2\n",
            "Computed factorial(3) = 3 × factorial(2) = 6\n",
            "Computed factorial(4) = 4 × factorial(3) = 24\n",
            "Computed factorial(5) = 5 × factorial(4) = 120\n",
            "Factorial of 5: 120\n"
          ]
        }
      ]
    },
    {
      "cell_type": "code",
      "source": [
        "#user input\n",
        "# Function to calculate the factorial of a number\n",
        "def factorial(n):\n",
        "    \"\"\"Calculate the factorial of a given number using recursion.\"\"\"\n",
        "\n",
        "    print(f\"Calculating factorial({n})\")  # Show the current step\n",
        "\n",
        "    # Base case: factorial of 0 is 1\n",
        "    if n == 0:\n",
        "        print(\"Reached base case: factorial(0) = 1\")\n",
        "        return 1\n",
        "\n",
        "    # Recursive case: n! = n × (n-1)!\n",
        "    else:\n",
        "        result = n * factorial(n - 1)\n",
        "        print(f\"Computed factorial({n}) = {n} × factorial({n-1}) = {result}\")\n",
        "        return result\n",
        "\n",
        "# Taking input from the user\n",
        "num = int(input(\"Enter a non-negative integer: \"))\n",
        "\n",
        "# Ensure the user enters a non-negative integer\n",
        "if num < 0:\n",
        "    print(\"Factorial is not defined for negative numbers.\")\n",
        "else:\n",
        "    print(f\"Factorial of {num}: {factorial(num)}\")\n"
      ],
      "metadata": {
        "colab": {
          "base_uri": "https://localhost:8080/"
        },
        "id": "HO5pQNm58u8V",
        "outputId": "ca8f8cb0-b38e-43ea-e35c-d9bfb90ced91"
      },
      "execution_count": 14,
      "outputs": [
        {
          "output_type": "stream",
          "name": "stdout",
          "text": [
            "Enter a non-negative integer: 6\n",
            "Calculating factorial(6)\n",
            "Calculating factorial(5)\n",
            "Calculating factorial(4)\n",
            "Calculating factorial(3)\n",
            "Calculating factorial(2)\n",
            "Calculating factorial(1)\n",
            "Calculating factorial(0)\n",
            "Reached base case: factorial(0) = 1\n",
            "Computed factorial(1) = 1 × factorial(0) = 1\n",
            "Computed factorial(2) = 2 × factorial(1) = 2\n",
            "Computed factorial(3) = 3 × factorial(2) = 6\n",
            "Computed factorial(4) = 4 × factorial(3) = 24\n",
            "Computed factorial(5) = 5 × factorial(4) = 120\n",
            "Computed factorial(6) = 6 × factorial(5) = 720\n",
            "Factorial of 6: 720\n"
          ]
        }
      ]
    },
    {
      "cell_type": "code",
      "source": [],
      "metadata": {
        "colab": {
          "base_uri": "https://localhost:8080/"
        },
        "id": "qiBAixsy9BI8",
        "outputId": "9cbf2548-6464-4dc8-9105-2946577bb672"
      },
      "execution_count": 15,
      "outputs": [
        {
          "output_type": "stream",
          "name": "stdout",
          "text": [
            "25\n"
          ]
        }
      ]
    },
    {
      "cell_type": "code",
      "source": [
        "# traditional function instead of a lambda function:\n",
        "\n",
        "# Traditional function to calculate the square of a number\n",
        "def square(x):\n",
        "    return x ** 2\n",
        "\n",
        "# Square a number using the function\n",
        "result = square(5)\n",
        "print(result)  # Output: 25\n",
        "\n"
      ],
      "metadata": {
        "colab": {
          "base_uri": "https://localhost:8080/"
        },
        "id": "cn6-gsG09Ili",
        "outputId": "30368aff-9dc0-474e-ca2b-9ad62308c763"
      },
      "execution_count": 21,
      "outputs": [
        {
          "output_type": "stream",
          "name": "stdout",
          "text": [
            "25\n"
          ]
        }
      ]
    },
    {
      "cell_type": "code",
      "source": [
        "#lambda\n",
        "square = lambda x: x**2\n",
        "\n",
        "# def square(x):\n",
        "#     return x ** 2\n",
        "\n",
        "# Square a number using the lambda function\n",
        "result = square(5)\n",
        "print(result)  # Output: 25\n"
      ],
      "metadata": {
        "colab": {
          "base_uri": "https://localhost:8080/"
        },
        "id": "f4M1w0tf-3PO",
        "outputId": "cd7180cc-1f3b-4a32-aff8-fe0ce7d2438c"
      },
      "execution_count": 25,
      "outputs": [
        {
          "output_type": "stream",
          "name": "stdout",
          "text": [
            "25\n"
          ]
        }
      ]
    },
    {
      "cell_type": "code",
      "source": [],
      "metadata": {
        "id": "A4kNUnSr97Z9"
      },
      "execution_count": null,
      "outputs": []
    },
    {
      "cell_type": "code",
      "source": [],
      "metadata": {
        "id": "1f-QJd7q97c2"
      },
      "execution_count": null,
      "outputs": []
    },
    {
      "cell_type": "code",
      "source": [],
      "metadata": {
        "id": "aDKQoOGQ9K_d"
      },
      "execution_count": null,
      "outputs": []
    },
    {
      "cell_type": "code",
      "source": [],
      "metadata": {
        "colab": {
          "base_uri": "https://localhost:8080/"
        },
        "id": "EcKU8qHX9LCU",
        "outputId": "c1e23f3d-360c-46da-d2a4-9e148266e638"
      },
      "execution_count": 16,
      "outputs": [
        {
          "output_type": "stream",
          "name": "stdout",
          "text": [
            "[1, 4, 9, 16, 25]\n",
            "[1, 4, 9, 16, 25]\n"
          ]
        }
      ]
    },
    {
      "cell_type": "code",
      "source": [
        "# Traditional function to calculate the square of a number\n",
        "def square(x):\n",
        "    return x ** 2\n",
        "\n",
        "# List of numbers\n",
        "numbers = [1, 2, 3, 4, 5]\n",
        "\n",
        "# Using map with the traditional function\n",
        "squares = list(map(square, numbers))\n",
        "print(squares)  # Output: [1, 4, 9, 16, 25]\n"
      ],
      "metadata": {
        "colab": {
          "base_uri": "https://localhost:8080/"
        },
        "id": "lFY1wOW9-LPl",
        "outputId": "35936b5b-61f0-4768-d580-71aa1cbed6f9"
      },
      "execution_count": 22,
      "outputs": [
        {
          "output_type": "stream",
          "name": "stdout",
          "text": [
            "[1, 4, 9, 16, 25]\n"
          ]
        }
      ]
    },
    {
      "cell_type": "code",
      "source": [
        "#squares = list(map(square, numbers))\n",
        "# square is the function that calculates the square of a number.\n",
        "# numbers is the list [1, 2, 3, 4, 5].\n",
        "# The map() function applies the square function to each element of the numbers list. It processes each element of the list one by one, squares it, and returns the results as an iterator. The list() function then converts the iterator into a list.\n",
        "\n",
        "# The result is a list of the squares of the numbers: [1, 4, 9, 16, 25].\n",
        "# #"
      ],
      "metadata": {
        "id": "te0ZvlvR-LTE"
      },
      "execution_count": 24,
      "outputs": []
    },
    {
      "cell_type": "markdown",
      "source": [
        "square is the function that calculates the square of a number.\n",
        "numbers is the list [1, 2, 3, 4, 5].\n",
        "The map() function applies the square function to each element of the numbers list. It processes each element of the list one by one, squares it, and returns the results as an iterator. The list() function then converts the iterator into a list.\n",
        "\n",
        "The result is a list of the squares of the numbers: [1, 4, 9, 16, 25]."
      ],
      "metadata": {
        "id": "OhoLfRdu-oiV"
      }
    },
    {
      "cell_type": "code",
      "source": [],
      "metadata": {
        "id": "lApTqG729Oz9"
      },
      "execution_count": null,
      "outputs": []
    },
    {
      "cell_type": "code",
      "source": [],
      "metadata": {
        "id": "uPWuXv95-6Yl"
      },
      "execution_count": null,
      "outputs": []
    },
    {
      "cell_type": "code",
      "source": [
        "# Example of using a lambda function\n",
        "numbers = [1, 2, 3, 4, 5]\n",
        "squares = list(map(lambda x: x**2, numbers))\n",
        "print(squares)  # Output: [1, 4, 9, 16, 25]\n",
        "\n",
        "# Example of using a def function\n",
        "def square(x):\n",
        "    return x**2\n",
        "\n",
        "numbers = [1, 2, 3, 4, 5]\n",
        "squares = []\n",
        "for n in numbers:\n",
        "    square_of_n = square(n)\n",
        "    squares.append(square_of_n)\n",
        "print(squares)  # Output: [1, 4, 9, 16, 25]\n"
      ],
      "metadata": {
        "colab": {
          "base_uri": "https://localhost:8080/"
        },
        "id": "deDk_uHa-6bj",
        "outputId": "948631e8-4f47-4aed-eddf-b68318d1c004"
      },
      "execution_count": 26,
      "outputs": [
        {
          "output_type": "stream",
          "name": "stdout",
          "text": [
            "[1, 4, 9, 16, 25]\n",
            "[1, 4, 9, 16, 25]\n"
          ]
        }
      ]
    },
    {
      "cell_type": "code",
      "source": [
        "#Exception handling\n",
        "# Function to divide two numbers\n",
        "def divide_numbers(num1, num2):\n",
        "    try:\n",
        "        result = num1 / num2\n",
        "        return result\n",
        "    except ZeroDivisionError:\n",
        "        return \"Error: Division by zero is not allowed.\"\n",
        "\n",
        "# Taking input from the user\n",
        "num1 = float(input(\"Enter the first number: \"))\n",
        "num2 = float(input(\"Enter the second number: \"))\n",
        "\n",
        "# Performing division and displaying the result\n",
        "result = divide_numbers(num1, num2)\n",
        "print(f\"Result: {result}\")\n"
      ],
      "metadata": {
        "colab": {
          "base_uri": "https://localhost:8080/"
        },
        "id": "9VyPGC0r9O5F",
        "outputId": "0210db69-6e8f-466a-f230-d452b4534713"
      },
      "execution_count": 17,
      "outputs": [
        {
          "output_type": "stream",
          "name": "stdout",
          "text": [
            "Enter the first number: 1\n",
            "Enter the second number: 0\n",
            "Result: Error: Division by zero is not allowed.\n"
          ]
        }
      ]
    },
    {
      "cell_type": "code",
      "source": [],
      "metadata": {
        "id": "21xWfnsn9cyd"
      },
      "execution_count": null,
      "outputs": []
    },
    {
      "cell_type": "code",
      "source": [],
      "metadata": {
        "id": "TPmTeTn19c43"
      },
      "execution_count": null,
      "outputs": []
    },
    {
      "cell_type": "code",
      "source": [
        "#Exception handling\n",
        "# Function to divide two numbers\n",
        "def divide_numbers(num1, num2):\n",
        "    try:\n",
        "        result = num1 / num2\n",
        "        return result\n",
        "    except ZeroDivisionError:\n",
        "        return \"Error: Division by zero is not allowed.\"\n",
        "\n",
        "# Taking input from the user\n",
        "num1 = float(input(\"Enter the first number: \"))\n",
        "num2 = float(input(\"Enter the second number: \"))\n",
        "\n",
        "# Performing division and displaying the result\n",
        "result = divide_numbers(num1, num2)\n",
        "print(f\"Result: {result}\")\n"
      ],
      "metadata": {
        "colab": {
          "base_uri": "https://localhost:8080/"
        },
        "id": "WGRZ4ZFN9c9G",
        "outputId": "f2d96a66-400d-4f40-9998-a76f3b5c0b95"
      },
      "execution_count": 18,
      "outputs": [
        {
          "output_type": "stream",
          "name": "stdout",
          "text": [
            "Enter the first number: 3\n",
            "Enter the second number: 4\n",
            "Result: 0.75\n"
          ]
        }
      ]
    },
    {
      "cell_type": "code",
      "source": [
        "#do it by else if\n",
        "# Function to divide two numbers\n",
        "def divide_numbers(num1, num2):\n",
        "    if num2 == 0:\n",
        "        return \"Error: Division by zero is not allowed.\"\n",
        "    else:\n",
        "        return num1 / num2\n",
        "\n",
        "# Taking input from the user\n",
        "num1 = float(input(\"Enter the first number: \"))\n",
        "num2 = float(input(\"Enter the second number: \"))\n",
        "\n",
        "# Performing division and displaying the result\n",
        "result = divide_numbers(num1, num2)\n",
        "print(f\"Result: {result}\")\n"
      ],
      "metadata": {
        "colab": {
          "base_uri": "https://localhost:8080/"
        },
        "id": "WAcKnfB79LdT",
        "outputId": "d137c07b-9642-4be1-a0b8-28f36b72963a"
      },
      "execution_count": 20,
      "outputs": [
        {
          "output_type": "stream",
          "name": "stdout",
          "text": [
            "Enter the first number: 1\n",
            "Enter the second number: 0\n",
            "Result: Error: Division by zero is not allowed.\n"
          ]
        }
      ]
    },
    {
      "cell_type": "code",
      "source": [],
      "metadata": {
        "id": "7Sxi5TiF9qPD"
      },
      "execution_count": 20,
      "outputs": []
    }
  ]
}