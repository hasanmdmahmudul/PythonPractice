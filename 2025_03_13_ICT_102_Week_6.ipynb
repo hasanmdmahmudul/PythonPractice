{
  "nbformat": 4,
  "nbformat_minor": 0,
  "metadata": {
    "colab": {
      "provenance": [],
      "authorship_tag": "ABX9TyOGyOpouQpzYuj9NpHfGNgY",
      "include_colab_link": true
    },
    "kernelspec": {
      "name": "python3",
      "display_name": "Python 3"
    },
    "language_info": {
      "name": "python"
    }
  },
  "cells": [
    {
      "cell_type": "markdown",
      "metadata": {
        "id": "view-in-github",
        "colab_type": "text"
      },
      "source": [
        "<a href=\"https://colab.research.google.com/github/hasanmdmahmudul/PythonPractice/blob/main/2025_03_13_ICT_102_Week_6.ipynb\" target=\"_parent\"><img src=\"https://colab.research.google.com/assets/colab-badge.svg\" alt=\"Open In Colab\"/></a>"
      ]
    },
    {
      "cell_type": "code",
      "source": [
        "def calculate_grade(marks):\n",
        "    avg_marks = sum(marks) / len(marks)\n",
        "    if avg_marks >= 90:\n",
        "        return \"A\"\n",
        "    elif avg_marks >= 80:\n",
        "        return \"B\"\n",
        "    elif avg_marks >= 70:\n",
        "        return \"C\"\n",
        "    elif avg_marks >= 60:\n",
        "        return \"D\"\n",
        "    else:\n",
        "        return \"F\"\n",
        "\n",
        "num_subjects = int(input(\"Enter the number of subjects: \"))\n",
        "marks = []\n",
        "for i in range(1, num_subjects + 1):\n",
        "    mark = int(input(f\"Enter the marks for subject {i}: \"))\n",
        "    marks.append(mark)\n",
        "\n",
        "grade = calculate_grade(marks)\n",
        "print(f\"Your grade is: {grade}\")\n"
      ],
      "metadata": {
        "colab": {
          "base_uri": "https://localhost:8080/"
        },
        "id": "1t0G0eAj3jmi",
        "outputId": "dc3901d0-ed00-47a2-a6fc-e0b788edefce"
      },
      "execution_count": 4,
      "outputs": [
        {
          "output_type": "stream",
          "name": "stdout",
          "text": [
            "Enter the number of subjects: 3\n",
            "Enter the marks for subject 1: 70\n",
            "Enter the marks for subject 2: 80\n",
            "Enter the marks for subject 3: 90\n",
            "Your grade is: B\n"
          ]
        }
      ]
    },
    {
      "cell_type": "code",
      "source": [
        "#An Error Handling Function\n",
        "def verify_input(prompt):\n",
        "    while True:\n",
        "        try:\n",
        "            pin=int(input(prompt))\n",
        "            return pin\n",
        "        except ValueError:\n",
        "            print(\"Pin should be a number\")\n",
        "            #pass\n",
        "\n",
        "\n",
        "pin_code=verify_input(\"Enter Your Pin Code: \")\n",
        "print(f\"Your new pin is {pin_code}\")\n"
      ],
      "metadata": {
        "colab": {
          "base_uri": "https://localhost:8080/"
        },
        "id": "iqg0i_ku3OX6",
        "outputId": "1ce958a1-c0e5-481e-e0c0-d63c811c15a1"
      },
      "execution_count": 5,
      "outputs": [
        {
          "output_type": "stream",
          "name": "stdout",
          "text": [
            "Enter Your Pin Code: 123456\n",
            "Your new pin is 123456\n"
          ]
        }
      ]
    },
    {
      "cell_type": "code",
      "source": [
        "#An Error Handling Function\n",
        "def verify_input(prompt):\n",
        "    while True:\n",
        "        try:\n",
        "            pin=int(input(prompt))\n",
        "            return pin\n",
        "        except ValueError:\n",
        "            print(\"Pin should be a number\")\n",
        "            #pass\n",
        "\n",
        "\n",
        "pin_code=verify_input(\"Enter Your Pin Code: \")\n",
        "print(f\"Your new pin is {pin_code}\")\n"
      ],
      "metadata": {
        "colab": {
          "base_uri": "https://localhost:8080/"
        },
        "id": "Wq0vHJqg390a",
        "outputId": "2693243b-8073-421c-e89a-e7b26289b151"
      },
      "execution_count": 6,
      "outputs": [
        {
          "output_type": "stream",
          "name": "stdout",
          "text": [
            "Enter Your Pin Code: 12*\n",
            "Pin should be a number\n",
            "Enter Your Pin Code: 12*#\n",
            "Pin should be a number\n",
            "Enter Your Pin Code: 123\n",
            "Your new pin is 123\n"
          ]
        }
      ]
    },
    {
      "cell_type": "code",
      "source": [
        "# An Error Handling Function\n",
        "def verify_input(prompt):\n",
        "    while True:  # Infinite loop to keep asking for input until valid\n",
        "        try:\n",
        "            pin = int(input(prompt))  # Try converting input to an integer\n",
        "            return pin  # If successful, return the valid PIN\n",
        "        except ValueError:  # If conversion fails (non-numeric input), handle error\n",
        "            print(\"Pin should be a number\")  # Inform user of invalid input\n",
        "\n",
        "# Prompt user to enter a PIN and store the valid input\n",
        "pin_code = verify_input(\"Enter Your Pin Code: \")\n",
        "\n",
        "# Display the valid PIN\n",
        "print(f\"Your new pin is {pin_code}\")\n"
      ],
      "metadata": {
        "colab": {
          "base_uri": "https://localhost:8080/"
        },
        "id": "obVxpbuT4E5q",
        "outputId": "8e2ea93d-e253-49d2-aa37-57cf24dca458"
      },
      "execution_count": 7,
      "outputs": [
        {
          "output_type": "stream",
          "name": "stdout",
          "text": [
            "Enter Your Pin Code: 12*\n",
            "Pin should be a number\n",
            "Enter Your Pin Code: 123\n",
            "Your new pin is 123\n"
          ]
        }
      ]
    },
    {
      "cell_type": "code",
      "source": [
        "# Multiple return variables\n",
        "def analyse_string(text):\n",
        "    num_chars = len(text)  # Count total characters\n",
        "    vowels = \"aeiouAEIOU\"  # Define vowels\n",
        "    num_vowels = sum(1 for char in text if char in vowels)  # Count vowels\n",
        "    return num_chars, num_vowels  # Return both values\n",
        "\n",
        "# Input text\n",
        "input_text = \"Hello World\"\n",
        "\n",
        "# Call the function and unpack returned values\n",
        "char_count, vowel_count = analyse_string(input_text)\n",
        "\n",
        "# Print results\n",
        "print(\"Number of characters:\", char_count)\n",
        "print(\"Number of vowels:\", vowel_count)\n"
      ],
      "metadata": {
        "colab": {
          "base_uri": "https://localhost:8080/"
        },
        "id": "m_VvaGJw4kZY",
        "outputId": "4e7bf904-91dd-4605-9250-9356cd67d008"
      },
      "execution_count": 9,
      "outputs": [
        {
          "output_type": "stream",
          "name": "stdout",
          "text": [
            "Number of characters: 11\n",
            "Number of vowels: 3\n"
          ]
        }
      ]
    },
    {
      "cell_type": "code",
      "source": [
        "#Take input text from keyboard\n",
        "# Multiple return variables\n",
        "def analyse_string(text):\n",
        "    num_chars = len(text)  # Count total characters\n",
        "    vowels = \"aeiouAEIOU\"  # Define vowels\n",
        "    num_vowels = sum(1 for char in text if char in vowels)  # Count vowels\n",
        "    return num_chars, num_vowels  # Return both values\n",
        "\n",
        "# Take input from the user\n",
        "input_text = input(\"Enter a string: \")\n",
        "\n",
        "# Call the function and unpack returned values\n",
        "char_count, vowel_count = analyse_string(input_text)\n",
        "\n",
        "# Print results\n",
        "print(\"Number of characters:\", char_count)\n",
        "print(\"Number of vowels:\", vowel_count)\n"
      ],
      "metadata": {
        "colab": {
          "base_uri": "https://localhost:8080/"
        },
        "id": "3xVqQdka4wJI",
        "outputId": "da1323fc-d0f4-4ce6-c78f-9b0e98fd64d1"
      },
      "execution_count": 10,
      "outputs": [
        {
          "output_type": "stream",
          "name": "stdout",
          "text": [
            "Enter a string: I am a good boy\n",
            "Number of characters: 15\n",
            "Number of vowels: 6\n"
          ]
        }
      ]
    },
    {
      "cell_type": "code",
      "source": [
        "# Using Multiple User-Defined Functions\n",
        "def multiply_by_two(num):\n",
        "    return num * 2\n",
        "\n",
        "def add_five(num):\n",
        "    return num + 5\n",
        "\n",
        "def multiply_and_add(num):\n",
        "    multiplied = multiply_by_two(num)  # Multiply input by two\n",
        "    result = add_five(multiplied)  # Add five to the result\n",
        "    return result\n",
        "\n",
        "# Example usage:\n",
        "print(multiply_and_add(3))  # Output: 11\n"
      ],
      "metadata": {
        "colab": {
          "base_uri": "https://localhost:8080/"
        },
        "id": "-PaUQ9QC5Bc3",
        "outputId": "e6ed8f66-32b3-43c3-bb3a-14242af6636f"
      },
      "execution_count": 13,
      "outputs": [
        {
          "output_type": "stream",
          "name": "stdout",
          "text": [
            "11\n"
          ]
        }
      ]
    },
    {
      "cell_type": "code",
      "source": [
        "#Take the number input form keyboard:"
      ],
      "metadata": {
        "id": "rWVKQX5F6wYX"
      },
      "execution_count": 14,
      "outputs": []
    },
    {
      "cell_type": "code",
      "source": [
        "# Using Multiple User-Defined Functions\n",
        "def multiply_by_two(num):\n",
        "    return num * 2\n",
        "\n",
        "def add_five(num):\n",
        "    return num + 5\n",
        "\n",
        "def multiply_and_add(num):\n",
        "    multiplied = multiply_by_two(num)  # Multiply input by two\n",
        "    result = add_five(multiplied)  # Add five to the result\n",
        "    return result\n",
        "\n",
        "# Take input from the user\n",
        "num = int(input(\"Enter a number: \"))\n",
        "\n",
        "# Example usage:\n",
        "print(multiply_and_add(num))\n"
      ],
      "metadata": {
        "colab": {
          "base_uri": "https://localhost:8080/"
        },
        "id": "7JfdTKOA7P6n",
        "outputId": "a26089b9-341c-487c-bdf0-4b725c3f081b"
      },
      "execution_count": 15,
      "outputs": [
        {
          "output_type": "stream",
          "name": "stdout",
          "text": [
            "Enter a number: 3\n",
            "11\n"
          ]
        }
      ]
    },
    {
      "cell_type": "code",
      "source": [
        "#Cell 1: Create the mymath.py File"
      ],
      "metadata": {
        "id": "U_YyRYEG_KQ_"
      },
      "execution_count": null,
      "outputs": []
    },
    {
      "cell_type": "code",
      "source": [
        "# Create the mymath.py file\n",
        "code = \"\"\"\n",
        "def add(x, y):\n",
        "    return x + y\n",
        "\n",
        "def subtract(x, y):\n",
        "    return x - y\n",
        "\n",
        "def multiply(x, y):\n",
        "    return x * y\n",
        "\n",
        "def divide(x, y):\n",
        "    if y == 0:\n",
        "        raise ValueError(\"Cannot divide by zero.\")\n",
        "    return x / y\n",
        "\"\"\"\n",
        "\n",
        "# Save the file\n",
        "with open(\"/content/mymath.py\", \"w\") as file:\n",
        "    file.write(code)\n"
      ],
      "metadata": {
        "id": "tUZ6dW1F7Ql2"
      },
      "execution_count": 16,
      "outputs": []
    },
    {
      "cell_type": "markdown",
      "source": [
        "The file.write(code) command writes the content of the code string to the mymath.py file. This means that the functions defined in the code string are saved in the mymath.py file."
      ],
      "metadata": {
        "id": "CeS7cek5_rn6"
      }
    },
    {
      "cell_type": "code",
      "source": [
        "#Cell 2: Import and Use the Module"
      ],
      "metadata": {
        "id": "HosAroPG_N0u"
      },
      "execution_count": null,
      "outputs": []
    },
    {
      "cell_type": "code",
      "source": [
        "# Import the mymath module\n",
        "import mymath\n",
        "\n",
        "# Use the functions defined in mymath.py\n",
        "result = mymath.add(2, 3)\n",
        "print(result)  # Output: 5\n",
        "\n",
        "result = mymath.divide(10, 2)\n",
        "print(result)  # Output: 5.0\n"
      ],
      "metadata": {
        "colab": {
          "base_uri": "https://localhost:8080/"
        },
        "id": "nmrVkRT9--41",
        "outputId": "2a6c0c82-6d01-496f-bbde-f4d68514277f"
      },
      "execution_count": 17,
      "outputs": [
        {
          "output_type": "stream",
          "name": "stdout",
          "text": [
            "5\n",
            "5.0\n"
          ]
        }
      ]
    },
    {
      "cell_type": "code",
      "source": [
        "#Using lists as arguments and return\n",
        "def square_list(numbers):\n",
        "    squares = [num ** 2 for num in numbers] #takes a list of numbers as input\n",
        "    return squares #areturns a new list containing the squares of each number.\n",
        "\n",
        "# Example usage:\n",
        "numbers = [1, 2, 3, 4, 5]\n",
        "squares = square_list(numbers)\n",
        "print(squares)\n"
      ],
      "metadata": {
        "colab": {
          "base_uri": "https://localhost:8080/"
        },
        "id": "kX1IiVVq_BpN",
        "outputId": "f030ccd1-ebee-409e-e9fc-d2edc8301ccc"
      },
      "execution_count": 19,
      "outputs": [
        {
          "output_type": "stream",
          "name": "stdout",
          "text": [
            "[1, 4, 9, 16, 25]\n"
          ]
        }
      ]
    },
    {
      "cell_type": "code",
      "source": [
        "# Using lists as arguments and return\n",
        "def square_list(numbers):\n",
        "    squares = [num ** 2 for num in numbers]  # Takes a list of numbers as input\n",
        "    return squares  # Returns a new list containing the squares of each number\n",
        "\n",
        "# Taking user input\n",
        "input_string = input(\"Enter numbers separated by spaces: \")\n",
        "\n",
        "# Converting the input string to a list of integers\n",
        "numbers = list(map(int, input_string.split()))\n",
        "\n",
        "# Call the square_list function\n",
        "squares = square_list(numbers)\n",
        "\n",
        "# Print the result\n",
        "print(\"Squares of the numbers:\", squares)\n"
      ],
      "metadata": {
        "colab": {
          "base_uri": "https://localhost:8080/"
        },
        "id": "78An9s8xABuE",
        "outputId": "ba322f2a-41a4-4f6d-a41b-ab2db1e1578e"
      },
      "execution_count": 20,
      "outputs": [
        {
          "output_type": "stream",
          "name": "stdout",
          "text": [
            "Enter numbers separated by spaces: 1 2 3 4 5 6 \n",
            "Squares of the numbers: [1, 4, 9, 16, 25, 36]\n"
          ]
        }
      ]
    },
    {
      "cell_type": "code",
      "source": [],
      "metadata": {
        "id": "mlMEPM6EAVd8"
      },
      "execution_count": null,
      "outputs": []
    }
  ]
}