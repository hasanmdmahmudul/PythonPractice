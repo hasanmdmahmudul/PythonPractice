{
  "nbformat": 4,
  "nbformat_minor": 0,
  "metadata": {
    "colab": {
      "provenance": [],
      "authorship_tag": "ABX9TyMMRAJc8NdFZtg+03e7CQMl",
      "include_colab_link": true
    },
    "kernelspec": {
      "name": "python3",
      "display_name": "Python 3"
    },
    "language_info": {
      "name": "python"
    }
  },
  "cells": [
    {
      "cell_type": "markdown",
      "metadata": {
        "id": "view-in-github",
        "colab_type": "text"
      },
      "source": [
        "<a href=\"https://colab.research.google.com/github/hasanmdmahmudul/PythonPractice/blob/main/2025_04_24_ICT1_102_Week12_ShortQ_Practice.ipynb\" target=\"_parent\"><img src=\"https://colab.research.google.com/assets/colab-badge.svg\" alt=\"Open In Colab\"/></a>"
      ]
    },
    {
      "cell_type": "code",
      "execution_count": 2,
      "metadata": {
        "id": "jDhri6kx0PUc"
      },
      "outputs": [],
      "source": [
        "x = \"Hello World \"\n",
        "n = 5\n",
        "y=7\n"
      ]
    },
    {
      "cell_type": "code",
      "source": [
        "print(x + str(y))"
      ],
      "metadata": {
        "colab": {
          "base_uri": "https://localhost:8080/"
        },
        "id": "iYKuPwZ60TTx",
        "outputId": "d51b4ad1-b31c-4a7e-ebee-ca44cc60aa27"
      },
      "execution_count": 3,
      "outputs": [
        {
          "output_type": "stream",
          "name": "stdout",
          "text": [
            "Hello World 7\n"
          ]
        }
      ]
    },
    {
      "cell_type": "code",
      "source": [],
      "metadata": {
        "colab": {
          "base_uri": "https://localhost:8080/"
        },
        "id": "JouE6SXz0SQ6",
        "outputId": "0cb6d829-6c00-4c6b-e983-501eb334ffd7"
      },
      "execution_count": 4,
      "outputs": [
        {
          "output_type": "stream",
          "name": "stdout",
          "text": [
            "Hello World 7\n"
          ]
        }
      ]
    },
    {
      "cell_type": "code",
      "source": [
        "print(x * n)\n"
      ],
      "metadata": {
        "colab": {
          "base_uri": "https://localhost:8080/"
        },
        "id": "t6OFJ2X40X8p",
        "outputId": "0bb1a786-d929-455d-eefe-c3a5629a60b3"
      },
      "execution_count": 5,
      "outputs": [
        {
          "output_type": "stream",
          "name": "stdout",
          "text": [
            "Hello World Hello World Hello World Hello World Hello World \n"
          ]
        }
      ]
    },
    {
      "cell_type": "code",
      "source": [
        "print(3 ** 2)"
      ],
      "metadata": {
        "colab": {
          "base_uri": "https://localhost:8080/"
        },
        "id": "s3QODCpX0sth",
        "outputId": "fa3bdf00-467b-408c-9974-c4620c846676"
      },
      "execution_count": 11,
      "outputs": [
        {
          "output_type": "stream",
          "name": "stdout",
          "text": [
            "9\n"
          ]
        }
      ]
    },
    {
      "cell_type": "code",
      "source": [
        "print(n//y)\n"
      ],
      "metadata": {
        "colab": {
          "base_uri": "https://localhost:8080/"
        },
        "id": "5p_7WuvR0Z06",
        "outputId": "717f61f0-52eb-4739-a017-c2eb6cf50608"
      },
      "execution_count": 6,
      "outputs": [
        {
          "output_type": "stream",
          "name": "stdout",
          "text": [
            "0\n"
          ]
        }
      ]
    },
    {
      "cell_type": "code",
      "source": [
        "print(x[1:3])\n",
        ""
      ],
      "metadata": {
        "colab": {
          "base_uri": "https://localhost:8080/"
        },
        "id": "x-e0FURR0dPy",
        "outputId": "8e9fe006-d932-4bad-bc7b-2c1ef24db0aa"
      },
      "execution_count": 7,
      "outputs": [
        {
          "output_type": "stream",
          "name": "stdout",
          "text": [
            "el\n"
          ]
        }
      ]
    },
    {
      "cell_type": "code",
      "source": [
        "print(\"o\" in x)"
      ],
      "metadata": {
        "colab": {
          "base_uri": "https://localhost:8080/"
        },
        "id": "cl1sVmUO0g5a",
        "outputId": "a0f25ea3-2e3b-4682-cee3-12bcd7b32083"
      },
      "execution_count": 8,
      "outputs": [
        {
          "output_type": "stream",
          "name": "stdout",
          "text": [
            "True\n"
          ]
        }
      ]
    },
    {
      "cell_type": "code",
      "source": [
        "print(\"m\" in x)"
      ],
      "metadata": {
        "colab": {
          "base_uri": "https://localhost:8080/"
        },
        "id": "fQdgl2M10iIi",
        "outputId": "ab507973-ec79-4fe0-f378-54765b39e1c0"
      },
      "execution_count": 9,
      "outputs": [
        {
          "output_type": "stream",
          "name": "stdout",
          "text": [
            "False\n"
          ]
        }
      ]
    },
    {
      "cell_type": "code",
      "source": [
        "#Write a Python program that includes both a loop and a conditional  statement.\n",
        "\n",
        "# Print 1 to 10 except 6\n",
        "\n",
        "for i in range(1,11):\n",
        "  print(i)"
      ],
      "metadata": {
        "colab": {
          "base_uri": "https://localhost:8080/"
        },
        "id": "xqxe0AH00k4D",
        "outputId": "74bf9f9a-30da-40b7-ba1e-c57efe955363"
      },
      "execution_count": 12,
      "outputs": [
        {
          "output_type": "stream",
          "name": "stdout",
          "text": [
            "1\n",
            "2\n",
            "3\n",
            "4\n",
            "5\n",
            "6\n",
            "7\n",
            "8\n",
            "9\n",
            "10\n"
          ]
        }
      ]
    },
    {
      "cell_type": "code",
      "source": [
        "for i in range(1,11):\n",
        "  if i == 6:\n",
        "    continue\n",
        "  print(i)"
      ],
      "metadata": {
        "colab": {
          "base_uri": "https://localhost:8080/"
        },
        "id": "tX8TROHX2iwy",
        "outputId": "be6f9a06-b420-4303-828f-5bfa8cbde4c9"
      },
      "execution_count": 13,
      "outputs": [
        {
          "output_type": "stream",
          "name": "stdout",
          "text": [
            "1\n",
            "2\n",
            "3\n",
            "4\n",
            "5\n",
            "7\n",
            "8\n",
            "9\n",
            "10\n"
          ]
        }
      ]
    },
    {
      "cell_type": "code",
      "source": [
        "for i in range(1,11):\n",
        "  if i == 6:\n",
        "    break\n",
        "  print(i)"
      ],
      "metadata": {
        "colab": {
          "base_uri": "https://localhost:8080/"
        },
        "id": "b9JEZdOv2pQr",
        "outputId": "04e3b3b4-15ff-4f32-f9d1-d8f473a5e5d7"
      },
      "execution_count": 14,
      "outputs": [
        {
          "output_type": "stream",
          "name": "stdout",
          "text": [
            "1\n",
            "2\n",
            "3\n",
            "4\n",
            "5\n"
          ]
        }
      ]
    },
    {
      "cell_type": "code",
      "source": [],
      "metadata": {
        "id": "5YxhCnGD32sa"
      },
      "execution_count": null,
      "outputs": []
    },
    {
      "cell_type": "code",
      "source": [
        "# Create a user-defined function that accepts a dictionary as a parameter. The dictionary\n",
        "# contains students' names as keys and their scores as values. The function should iterate\n",
        "# through the dictionary using a loop, determine each student’s grade based on the score using\n",
        "# the given grading scale, and store the results in a new dictionary. Finally, the function should\n",
        "# return the new dictionary containing students' names and their corresponding grades. [6\n",
        "# Mark\n",
        "def assign_grades(student_scores):\n",
        "    student_grades = {}\n",
        "\n",
        "    for student, score in student_scores.items():\n",
        "        if score >= 90:\n",
        "            grade = \"A\"\n",
        "        elif score >= 80:\n",
        "            grade = \"B\"\n",
        "        elif score >= 70:\n",
        "            grade = \"C\"\n",
        "        elif score >= 60:\n",
        "            grade = \"D\"\n",
        "        else:\n",
        "            grade = \"F\"\n",
        "\n",
        "        student_grades[student] = grade\n",
        "\n",
        "    return student_grades\n",
        "\n",
        "# Define a dictionary with student names and their scores\n",
        "student_scores = {\n",
        "    \"Alice\": 85,\n",
        "    \"Bob\": 92,\n",
        "    \"Charlie\": 67,\n",
        "    \"Diana\": 74,\n",
        "    \"Evan\": 58\n",
        "}\n",
        "\n",
        "# Call the function\n",
        "graded_students = assign_grades(student_scores)\n",
        "\n",
        "# Print the result\n",
        "print(\"Student Grades:\")\n",
        "for student, grade in graded_students.items():\n",
        "    print(f\"{student}: {grade}\")\n"
      ],
      "metadata": {
        "colab": {
          "base_uri": "https://localhost:8080/"
        },
        "id": "4Akcyz0p2sn8",
        "outputId": "e28d55c8-6e2a-40a8-ae4b-67c49cd47b7d"
      },
      "execution_count": 16,
      "outputs": [
        {
          "output_type": "stream",
          "name": "stdout",
          "text": [
            "Student Grades:\n",
            "Alice: B\n",
            "Bob: A\n",
            "Charlie: D\n",
            "Diana: C\n",
            "Evan: F\n"
          ]
        }
      ]
    },
    {
      "cell_type": "code",
      "source": [
        "#Exercise from LECTURE\n",
        "# Dictionary of student scores\n",
        "student_scores = {\n",
        "    \"Harry\": 81,\n",
        "    \"Ron\": 78,\n",
        "    \"Hermione\": 99,\n",
        "    \"Draco\": 74,\n",
        "    \"Neville\": 62,\n",
        "}\n",
        "\n",
        "# Dictionary to store student grades\n",
        "student_grades = {}\n",
        "\n",
        "# Convert scores to grades\n",
        "for student, score in student_scores.items():\n",
        "    if 91 <= score <= 100:\n",
        "        student_grades[student] = \"Outstanding\"\n",
        "    elif 81 <= score <= 90:\n",
        "        student_grades[student] = \"Exceeds Expectations\"\n",
        "    elif 71 <= score <= 80:\n",
        "        student_grades[student] = \"Acceptable\"\n",
        "    else:\n",
        "        student_grades[student] = \"Fail\"\n",
        "\n",
        "# Print the final dictionary of student grades\n",
        "student_grades\n"
      ],
      "metadata": {
        "colab": {
          "base_uri": "https://localhost:8080/"
        },
        "id": "lxcOH8_z3WFa",
        "outputId": "746b18ed-34cf-4741-b2aa-5d0d4a4ad2c4"
      },
      "execution_count": 17,
      "outputs": [
        {
          "output_type": "execute_result",
          "data": {
            "text/plain": [
              "{'Harry': 'Exceeds Expectations',\n",
              " 'Ron': 'Acceptable',\n",
              " 'Hermione': 'Outstanding',\n",
              " 'Draco': 'Acceptable',\n",
              " 'Neville': 'Fail'}"
            ]
          },
          "metadata": {},
          "execution_count": 17
        }
      ]
    },
    {
      "cell_type": "code",
      "source": [
        "#VVI\n",
        "word = input(\"Enter a word: \")\n",
        "\n",
        "# Loop through each character in the word\n",
        "for char in word:\n",
        "    print(char)"
      ],
      "metadata": {
        "colab": {
          "base_uri": "https://localhost:8080/"
        },
        "id": "HRh4AECG35f6",
        "outputId": "206015ee-fa5b-4d49-9b98-20913bb24408"
      },
      "execution_count": 18,
      "outputs": [
        {
          "output_type": "stream",
          "name": "stdout",
          "text": [
            "Enter a word: Hasan\n",
            "H\n",
            "a\n",
            "s\n",
            "a\n",
            "n\n"
          ]
        }
      ]
    },
    {
      "cell_type": "code",
      "source": [
        "print(len(word))"
      ],
      "metadata": {
        "colab": {
          "base_uri": "https://localhost:8080/"
        },
        "id": "uS8E_YeF4ZOa",
        "outputId": "a5afb9fb-eae3-4b9f-f4a8-093e41b1a012"
      },
      "execution_count": 19,
      "outputs": [
        {
          "output_type": "stream",
          "name": "stdout",
          "text": [
            "5\n"
          ]
        }
      ]
    },
    {
      "cell_type": "code",
      "source": [],
      "metadata": {
        "id": "-9QrAZiR4fky"
      },
      "execution_count": null,
      "outputs": []
    }
  ]
}